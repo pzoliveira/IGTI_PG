{
  "nbformat": 4,
  "nbformat_minor": 0,
  "metadata": {
    "colab": {
      "provenance": [],
      "authorship_tag": "ABX9TyPuLlnxWWOTwB0D0rusI6Ui",
      "include_colab_link": true
    },
    "kernelspec": {
      "name": "python3",
      "display_name": "Python 3"
    },
    "language_info": {
      "name": "python"
    }
  },
  "cells": [
    {
      "cell_type": "markdown",
      "metadata": {
        "id": "view-in-github",
        "colab_type": "text"
      },
      "source": [
        "<a href=\"https://colab.research.google.com/github/pzoliveira/IGTI_PG/blob/main/IGTI_RegrLin_colesterol_peso.ipynb\" target=\"_parent\"><img src=\"https://colab.research.google.com/assets/colab-badge.svg\" alt=\"Open In Colab\"/></a>"
      ]
    },
    {
      "cell_type": "markdown",
      "source": [
        "# Importando as Bibliotecas a serem utilizadas"
      ],
      "metadata": {
        "id": "z3oXW9HaKl0I"
      }
    },
    {
      "cell_type": "code",
      "execution_count": 1,
      "metadata": {
        "id": "ZZum-RqDKWYH"
      },
      "outputs": [],
      "source": [
        "import pandas as pd\n",
        "import numpy as np\n",
        "import plotly.express as px\n",
        "import seaborn as sbn"
      ]
    },
    {
      "cell_type": "markdown",
      "source": [
        "## Carregando o dataframe com os dados dos clientes (inclusive colesterol e peso)"
      ],
      "metadata": {
        "id": "LVblzJ-_LDxb"
      }
    },
    {
      "cell_type": "code",
      "source": [
        "df = pd.read_csv(\"dados_clinicos.csv\", \";\")\n",
        "df.isnull().sum()"
      ],
      "metadata": {
        "colab": {
          "base_uri": "https://localhost:8080/"
        },
        "id": "pk-jD4Q_LjJT",
        "outputId": "47697adf-09d1-4780-e179-799cb206d6ab"
      },
      "execution_count": 9,
      "outputs": [
        {
          "output_type": "stream",
          "name": "stderr",
          "text": [
            "<ipython-input-9-6b4bbfd55b0b>:1: FutureWarning:\n",
            "\n",
            "In a future version of pandas all arguments of read_csv except for the argument 'filepath_or_buffer' will be keyword-only.\n",
            "\n"
          ]
        },
        {
          "output_type": "execute_result",
          "data": {
            "text/plain": [
              "id_cliente    0\n",
              "peso          5\n",
              "colesterol    0\n",
              "genero        0\n",
              "dtype: int64"
            ]
          },
          "metadata": {},
          "execution_count": 9
        }
      ]
    },
    {
      "cell_type": "markdown",
      "source": [
        "## Pela análise, temos NaN na coluna 'peso'"
      ],
      "metadata": {
        "id": "qqtPD3bsYUae"
      }
    },
    {
      "cell_type": "code",
      "source": [
        "df['peso'].mean()"
      ],
      "metadata": {
        "colab": {
          "base_uri": "https://localhost:8080/"
        },
        "id": "N63eEOTrL6Ny",
        "outputId": "75014ce8-72e7-489b-da9f-c4b1a9df15bd"
      },
      "execution_count": 7,
      "outputs": [
        {
          "output_type": "execute_result",
          "data": {
            "text/plain": [
              "143.15898305084747"
            ]
          },
          "metadata": {},
          "execution_count": 7
        }
      ]
    },
    {
      "cell_type": "markdown",
      "source": [
        "## Vamos substituir os valores NaN pela média com duas casas decimais\n",
        "## e eliminar possíveis linhas duplicadas"
      ],
      "metadata": {
        "id": "wVkMajpzYfFr"
      }
    },
    {
      "cell_type": "code",
      "source": [
        "df['peso'] = df['peso'].fillna(np.round_(df['peso'].mean(), decimals=2))\n",
        "df.drop_duplicates()\n",
        "df"
      ],
      "metadata": {
        "colab": {
          "base_uri": "https://localhost:8080/",
          "height": 423
        },
        "id": "Rua0J1nlMgiH",
        "outputId": "fc1ab83a-5720-4bd1-af74-cf18ec8d56ab"
      },
      "execution_count": 27,
      "outputs": [
        {
          "output_type": "execute_result",
          "data": {
            "text/plain": [
              "     id_cliente   peso  colesterol     genero\n",
              "0             1  102.0         111  Masculino\n",
              "1             2  115.0         135  Masculino\n",
              "2             3  115.0         136  Masculino\n",
              "3             4  140.0         167   Feminino\n",
              "4             5  130.0         158  Masculino\n",
              "..          ...    ...         ...        ...\n",
              "585         363  172.0         211  Masculino\n",
              "586         364  157.0         194   Feminino\n",
              "587         365  137.0         169   Feminino\n",
              "588         366  158.0         189   Feminino\n",
              "589         367  110.0         128   Feminino\n",
              "\n",
              "[590 rows x 4 columns]"
            ],
            "text/html": [
              "\n",
              "  <div id=\"df-4c69b708-8762-4206-9940-f6b1e84e1baa\" class=\"colab-df-container\">\n",
              "    <div>\n",
              "<style scoped>\n",
              "    .dataframe tbody tr th:only-of-type {\n",
              "        vertical-align: middle;\n",
              "    }\n",
              "\n",
              "    .dataframe tbody tr th {\n",
              "        vertical-align: top;\n",
              "    }\n",
              "\n",
              "    .dataframe thead th {\n",
              "        text-align: right;\n",
              "    }\n",
              "</style>\n",
              "<table border=\"1\" class=\"dataframe\">\n",
              "  <thead>\n",
              "    <tr style=\"text-align: right;\">\n",
              "      <th></th>\n",
              "      <th>id_cliente</th>\n",
              "      <th>peso</th>\n",
              "      <th>colesterol</th>\n",
              "      <th>genero</th>\n",
              "    </tr>\n",
              "  </thead>\n",
              "  <tbody>\n",
              "    <tr>\n",
              "      <th>0</th>\n",
              "      <td>1</td>\n",
              "      <td>102.0</td>\n",
              "      <td>111</td>\n",
              "      <td>Masculino</td>\n",
              "    </tr>\n",
              "    <tr>\n",
              "      <th>1</th>\n",
              "      <td>2</td>\n",
              "      <td>115.0</td>\n",
              "      <td>135</td>\n",
              "      <td>Masculino</td>\n",
              "    </tr>\n",
              "    <tr>\n",
              "      <th>2</th>\n",
              "      <td>3</td>\n",
              "      <td>115.0</td>\n",
              "      <td>136</td>\n",
              "      <td>Masculino</td>\n",
              "    </tr>\n",
              "    <tr>\n",
              "      <th>3</th>\n",
              "      <td>4</td>\n",
              "      <td>140.0</td>\n",
              "      <td>167</td>\n",
              "      <td>Feminino</td>\n",
              "    </tr>\n",
              "    <tr>\n",
              "      <th>4</th>\n",
              "      <td>5</td>\n",
              "      <td>130.0</td>\n",
              "      <td>158</td>\n",
              "      <td>Masculino</td>\n",
              "    </tr>\n",
              "    <tr>\n",
              "      <th>...</th>\n",
              "      <td>...</td>\n",
              "      <td>...</td>\n",
              "      <td>...</td>\n",
              "      <td>...</td>\n",
              "    </tr>\n",
              "    <tr>\n",
              "      <th>585</th>\n",
              "      <td>363</td>\n",
              "      <td>172.0</td>\n",
              "      <td>211</td>\n",
              "      <td>Masculino</td>\n",
              "    </tr>\n",
              "    <tr>\n",
              "      <th>586</th>\n",
              "      <td>364</td>\n",
              "      <td>157.0</td>\n",
              "      <td>194</td>\n",
              "      <td>Feminino</td>\n",
              "    </tr>\n",
              "    <tr>\n",
              "      <th>587</th>\n",
              "      <td>365</td>\n",
              "      <td>137.0</td>\n",
              "      <td>169</td>\n",
              "      <td>Feminino</td>\n",
              "    </tr>\n",
              "    <tr>\n",
              "      <th>588</th>\n",
              "      <td>366</td>\n",
              "      <td>158.0</td>\n",
              "      <td>189</td>\n",
              "      <td>Feminino</td>\n",
              "    </tr>\n",
              "    <tr>\n",
              "      <th>589</th>\n",
              "      <td>367</td>\n",
              "      <td>110.0</td>\n",
              "      <td>128</td>\n",
              "      <td>Feminino</td>\n",
              "    </tr>\n",
              "  </tbody>\n",
              "</table>\n",
              "<p>590 rows × 4 columns</p>\n",
              "</div>\n",
              "    <div class=\"colab-df-buttons\">\n",
              "\n",
              "  <div class=\"colab-df-container\">\n",
              "    <button class=\"colab-df-convert\" onclick=\"convertToInteractive('df-4c69b708-8762-4206-9940-f6b1e84e1baa')\"\n",
              "            title=\"Convert this dataframe to an interactive table.\"\n",
              "            style=\"display:none;\">\n",
              "\n",
              "  <svg xmlns=\"http://www.w3.org/2000/svg\" height=\"24px\" viewBox=\"0 -960 960 960\">\n",
              "    <path d=\"M120-120v-720h720v720H120Zm60-500h600v-160H180v160Zm220 220h160v-160H400v160Zm0 220h160v-160H400v160ZM180-400h160v-160H180v160Zm440 0h160v-160H620v160ZM180-180h160v-160H180v160Zm440 0h160v-160H620v160Z\"/>\n",
              "  </svg>\n",
              "    </button>\n",
              "\n",
              "  <style>\n",
              "    .colab-df-container {\n",
              "      display:flex;\n",
              "      gap: 12px;\n",
              "    }\n",
              "\n",
              "    .colab-df-convert {\n",
              "      background-color: #E8F0FE;\n",
              "      border: none;\n",
              "      border-radius: 50%;\n",
              "      cursor: pointer;\n",
              "      display: none;\n",
              "      fill: #1967D2;\n",
              "      height: 32px;\n",
              "      padding: 0 0 0 0;\n",
              "      width: 32px;\n",
              "    }\n",
              "\n",
              "    .colab-df-convert:hover {\n",
              "      background-color: #E2EBFA;\n",
              "      box-shadow: 0px 1px 2px rgba(60, 64, 67, 0.3), 0px 1px 3px 1px rgba(60, 64, 67, 0.15);\n",
              "      fill: #174EA6;\n",
              "    }\n",
              "\n",
              "    .colab-df-buttons div {\n",
              "      margin-bottom: 4px;\n",
              "    }\n",
              "\n",
              "    [theme=dark] .colab-df-convert {\n",
              "      background-color: #3B4455;\n",
              "      fill: #D2E3FC;\n",
              "    }\n",
              "\n",
              "    [theme=dark] .colab-df-convert:hover {\n",
              "      background-color: #434B5C;\n",
              "      box-shadow: 0px 1px 3px 1px rgba(0, 0, 0, 0.15);\n",
              "      filter: drop-shadow(0px 1px 2px rgba(0, 0, 0, 0.3));\n",
              "      fill: #FFFFFF;\n",
              "    }\n",
              "  </style>\n",
              "\n",
              "    <script>\n",
              "      const buttonEl =\n",
              "        document.querySelector('#df-4c69b708-8762-4206-9940-f6b1e84e1baa button.colab-df-convert');\n",
              "      buttonEl.style.display =\n",
              "        google.colab.kernel.accessAllowed ? 'block' : 'none';\n",
              "\n",
              "      async function convertToInteractive(key) {\n",
              "        const element = document.querySelector('#df-4c69b708-8762-4206-9940-f6b1e84e1baa');\n",
              "        const dataTable =\n",
              "          await google.colab.kernel.invokeFunction('convertToInteractive',\n",
              "                                                    [key], {});\n",
              "        if (!dataTable) return;\n",
              "\n",
              "        const docLinkHtml = 'Like what you see? Visit the ' +\n",
              "          '<a target=\"_blank\" href=https://colab.research.google.com/notebooks/data_table.ipynb>data table notebook</a>'\n",
              "          + ' to learn more about interactive tables.';\n",
              "        element.innerHTML = '';\n",
              "        dataTable['output_type'] = 'display_data';\n",
              "        await google.colab.output.renderOutput(dataTable, element);\n",
              "        const docLink = document.createElement('div');\n",
              "        docLink.innerHTML = docLinkHtml;\n",
              "        element.appendChild(docLink);\n",
              "      }\n",
              "    </script>\n",
              "  </div>\n",
              "\n",
              "\n",
              "<div id=\"df-c7e0bf78-50d4-43b7-96e9-5a579cc4422f\">\n",
              "  <button class=\"colab-df-quickchart\" onclick=\"quickchart('df-c7e0bf78-50d4-43b7-96e9-5a579cc4422f')\"\n",
              "            title=\"Suggest charts\"\n",
              "            style=\"display:none;\">\n",
              "\n",
              "<svg xmlns=\"http://www.w3.org/2000/svg\" height=\"24px\"viewBox=\"0 0 24 24\"\n",
              "     width=\"24px\">\n",
              "    <g>\n",
              "        <path d=\"M19 3H5c-1.1 0-2 .9-2 2v14c0 1.1.9 2 2 2h14c1.1 0 2-.9 2-2V5c0-1.1-.9-2-2-2zM9 17H7v-7h2v7zm4 0h-2V7h2v10zm4 0h-2v-4h2v4z\"/>\n",
              "    </g>\n",
              "</svg>\n",
              "  </button>\n",
              "\n",
              "<style>\n",
              "  .colab-df-quickchart {\n",
              "      --bg-color: #E8F0FE;\n",
              "      --fill-color: #1967D2;\n",
              "      --hover-bg-color: #E2EBFA;\n",
              "      --hover-fill-color: #174EA6;\n",
              "      --disabled-fill-color: #AAA;\n",
              "      --disabled-bg-color: #DDD;\n",
              "  }\n",
              "\n",
              "  [theme=dark] .colab-df-quickchart {\n",
              "      --bg-color: #3B4455;\n",
              "      --fill-color: #D2E3FC;\n",
              "      --hover-bg-color: #434B5C;\n",
              "      --hover-fill-color: #FFFFFF;\n",
              "      --disabled-bg-color: #3B4455;\n",
              "      --disabled-fill-color: #666;\n",
              "  }\n",
              "\n",
              "  .colab-df-quickchart {\n",
              "    background-color: var(--bg-color);\n",
              "    border: none;\n",
              "    border-radius: 50%;\n",
              "    cursor: pointer;\n",
              "    display: none;\n",
              "    fill: var(--fill-color);\n",
              "    height: 32px;\n",
              "    padding: 0;\n",
              "    width: 32px;\n",
              "  }\n",
              "\n",
              "  .colab-df-quickchart:hover {\n",
              "    background-color: var(--hover-bg-color);\n",
              "    box-shadow: 0 1px 2px rgba(60, 64, 67, 0.3), 0 1px 3px 1px rgba(60, 64, 67, 0.15);\n",
              "    fill: var(--button-hover-fill-color);\n",
              "  }\n",
              "\n",
              "  .colab-df-quickchart-complete:disabled,\n",
              "  .colab-df-quickchart-complete:disabled:hover {\n",
              "    background-color: var(--disabled-bg-color);\n",
              "    fill: var(--disabled-fill-color);\n",
              "    box-shadow: none;\n",
              "  }\n",
              "\n",
              "  .colab-df-spinner {\n",
              "    border: 2px solid var(--fill-color);\n",
              "    border-color: transparent;\n",
              "    border-bottom-color: var(--fill-color);\n",
              "    animation:\n",
              "      spin 1s steps(1) infinite;\n",
              "  }\n",
              "\n",
              "  @keyframes spin {\n",
              "    0% {\n",
              "      border-color: transparent;\n",
              "      border-bottom-color: var(--fill-color);\n",
              "      border-left-color: var(--fill-color);\n",
              "    }\n",
              "    20% {\n",
              "      border-color: transparent;\n",
              "      border-left-color: var(--fill-color);\n",
              "      border-top-color: var(--fill-color);\n",
              "    }\n",
              "    30% {\n",
              "      border-color: transparent;\n",
              "      border-left-color: var(--fill-color);\n",
              "      border-top-color: var(--fill-color);\n",
              "      border-right-color: var(--fill-color);\n",
              "    }\n",
              "    40% {\n",
              "      border-color: transparent;\n",
              "      border-right-color: var(--fill-color);\n",
              "      border-top-color: var(--fill-color);\n",
              "    }\n",
              "    60% {\n",
              "      border-color: transparent;\n",
              "      border-right-color: var(--fill-color);\n",
              "    }\n",
              "    80% {\n",
              "      border-color: transparent;\n",
              "      border-right-color: var(--fill-color);\n",
              "      border-bottom-color: var(--fill-color);\n",
              "    }\n",
              "    90% {\n",
              "      border-color: transparent;\n",
              "      border-bottom-color: var(--fill-color);\n",
              "    }\n",
              "  }\n",
              "</style>\n",
              "\n",
              "  <script>\n",
              "    async function quickchart(key) {\n",
              "      const quickchartButtonEl =\n",
              "        document.querySelector('#' + key + ' button');\n",
              "      quickchartButtonEl.disabled = true;  // To prevent multiple clicks.\n",
              "      quickchartButtonEl.classList.add('colab-df-spinner');\n",
              "      try {\n",
              "        const charts = await google.colab.kernel.invokeFunction(\n",
              "            'suggestCharts', [key], {});\n",
              "      } catch (error) {\n",
              "        console.error('Error during call to suggestCharts:', error);\n",
              "      }\n",
              "      quickchartButtonEl.classList.remove('colab-df-spinner');\n",
              "      quickchartButtonEl.classList.add('colab-df-quickchart-complete');\n",
              "    }\n",
              "    (() => {\n",
              "      let quickchartButtonEl =\n",
              "        document.querySelector('#df-c7e0bf78-50d4-43b7-96e9-5a579cc4422f button');\n",
              "      quickchartButtonEl.style.display =\n",
              "        google.colab.kernel.accessAllowed ? 'block' : 'none';\n",
              "    })();\n",
              "  </script>\n",
              "</div>\n",
              "\n",
              "  <div id=\"id_4551f7c8-e2a2-416b-9f34-a3c938a6589a\">\n",
              "    <style>\n",
              "      .colab-df-generate {\n",
              "        background-color: #E8F0FE;\n",
              "        border: none;\n",
              "        border-radius: 50%;\n",
              "        cursor: pointer;\n",
              "        display: none;\n",
              "        fill: #1967D2;\n",
              "        height: 32px;\n",
              "        padding: 0 0 0 0;\n",
              "        width: 32px;\n",
              "      }\n",
              "\n",
              "      .colab-df-generate:hover {\n",
              "        background-color: #E2EBFA;\n",
              "        box-shadow: 0px 1px 2px rgba(60, 64, 67, 0.3), 0px 1px 3px 1px rgba(60, 64, 67, 0.15);\n",
              "        fill: #174EA6;\n",
              "      }\n",
              "\n",
              "      [theme=dark] .colab-df-generate {\n",
              "        background-color: #3B4455;\n",
              "        fill: #D2E3FC;\n",
              "      }\n",
              "\n",
              "      [theme=dark] .colab-df-generate:hover {\n",
              "        background-color: #434B5C;\n",
              "        box-shadow: 0px 1px 3px 1px rgba(0, 0, 0, 0.15);\n",
              "        filter: drop-shadow(0px 1px 2px rgba(0, 0, 0, 0.3));\n",
              "        fill: #FFFFFF;\n",
              "      }\n",
              "    </style>\n",
              "    <button class=\"colab-df-generate\" onclick=\"generateWithVariable('df')\"\n",
              "            title=\"Generate code using this dataframe.\"\n",
              "            style=\"display:none;\">\n",
              "\n",
              "  <svg xmlns=\"http://www.w3.org/2000/svg\" height=\"24px\"viewBox=\"0 0 24 24\"\n",
              "       width=\"24px\">\n",
              "    <path d=\"M7,19H8.4L18.45,9,17,7.55,7,17.6ZM5,21V16.75L18.45,3.32a2,2,0,0,1,2.83,0l1.4,1.43a1.91,1.91,0,0,1,.58,1.4,1.91,1.91,0,0,1-.58,1.4L9.25,21ZM18.45,9,17,7.55Zm-12,3A5.31,5.31,0,0,0,4.9,8.1,5.31,5.31,0,0,0,1,6.5,5.31,5.31,0,0,0,4.9,4.9,5.31,5.31,0,0,0,6.5,1,5.31,5.31,0,0,0,8.1,4.9,5.31,5.31,0,0,0,12,6.5,5.46,5.46,0,0,0,6.5,12Z\"/>\n",
              "  </svg>\n",
              "    </button>\n",
              "    <script>\n",
              "      (() => {\n",
              "      const buttonEl =\n",
              "        document.querySelector('#id_4551f7c8-e2a2-416b-9f34-a3c938a6589a button.colab-df-generate');\n",
              "      buttonEl.style.display =\n",
              "        google.colab.kernel.accessAllowed ? 'block' : 'none';\n",
              "\n",
              "      buttonEl.onclick = () => {\n",
              "        google.colab.notebook.generateWithVariable('df');\n",
              "      }\n",
              "      })();\n",
              "    </script>\n",
              "  </div>\n",
              "\n",
              "    </div>\n",
              "  </div>\n"
            ],
            "application/vnd.google.colaboratory.intrinsic+json": {
              "type": "dataframe",
              "variable_name": "df",
              "summary": "{\n  \"name\": \"df\",\n  \"rows\": 590,\n  \"fields\": [\n    {\n      \"column\": \"id_cliente\",\n      \"properties\": {\n        \"dtype\": \"number\",\n        \"std\": 156,\n        \"min\": 1,\n        \"max\": 547,\n        \"num_unique_values\": 547,\n        \"samples\": [\n          177,\n          78,\n          362\n        ],\n        \"semantic_type\": \"\",\n        \"description\": \"\"\n      }\n    },\n    {\n      \"column\": \"peso\",\n      \"properties\": {\n        \"dtype\": \"number\",\n        \"std\": 30.793860196298645,\n        \"min\": 95.0,\n        \"max\": 203.0,\n        \"num_unique_values\": 107,\n        \"samples\": [\n          203.0,\n          188.0,\n          198.0\n        ],\n        \"semantic_type\": \"\",\n        \"description\": \"\"\n      }\n    },\n    {\n      \"column\": \"colesterol\",\n      \"properties\": {\n        \"dtype\": \"number\",\n        \"std\": 39,\n        \"min\": 102,\n        \"max\": 235,\n        \"num_unique_values\": 131,\n        \"samples\": [\n          191,\n          138,\n          163\n        ],\n        \"semantic_type\": \"\",\n        \"description\": \"\"\n      }\n    },\n    {\n      \"column\": \"genero\",\n      \"properties\": {\n        \"dtype\": \"category\",\n        \"num_unique_values\": 2,\n        \"samples\": [\n          \"Feminino\",\n          \"Masculino\"\n        ],\n        \"semantic_type\": \"\",\n        \"description\": \"\"\n      }\n    }\n  ]\n}"
            }
          },
          "metadata": {},
          "execution_count": 27
        }
      ]
    },
    {
      "cell_type": "code",
      "source": [
        "df['peso'].dtype"
      ],
      "metadata": {
        "colab": {
          "base_uri": "https://localhost:8080/"
        },
        "id": "NDvRsye6fFiM",
        "outputId": "b767ce99-bccd-40f4-bc32-d6c577b98b88"
      },
      "execution_count": 23,
      "outputs": [
        {
          "output_type": "execute_result",
          "data": {
            "text/plain": [
              "dtype('float64')"
            ]
          },
          "metadata": {},
          "execution_count": 23
        }
      ]
    },
    {
      "cell_type": "code",
      "source": [
        "df['colesterol'].dtype"
      ],
      "metadata": {
        "colab": {
          "base_uri": "https://localhost:8080/"
        },
        "id": "nG7pe560fLlf",
        "outputId": "26e6b9fc-201b-4834-e3bd-ea08f7cbb902"
      },
      "execution_count": 24,
      "outputs": [
        {
          "output_type": "execute_result",
          "data": {
            "text/plain": [
              "dtype('int64')"
            ]
          },
          "metadata": {},
          "execution_count": 24
        }
      ]
    },
    {
      "cell_type": "markdown",
      "source": [
        "## Criando as variáveis independente e dependente"
      ],
      "metadata": {
        "id": "tuI9KLpPaq9c"
      }
    },
    {
      "cell_type": "code",
      "source": [
        "X_peso = df.iloc[: , 1].values\n",
        "y_colesterol = df.iloc[: , 2].values"
      ],
      "metadata": {
        "id": "pzntPYZHaC-v"
      },
      "execution_count": 28,
      "outputs": []
    },
    {
      "cell_type": "code",
      "source": [
        "X_peso"
      ],
      "metadata": {
        "colab": {
          "base_uri": "https://localhost:8080/"
        },
        "id": "WGiNF2CedIiT",
        "outputId": "2e183543-41b0-4ab7-ff69-c97d13dfcfd6"
      },
      "execution_count": 22,
      "outputs": [
        {
          "output_type": "execute_result",
          "data": {
            "text/plain": [
              "array([102., 115., 115., 140., 130., 198., 114., 145., 191., 186., 104.,\n",
              "       188.,  96., 156., 125., 178., 109., 168., 152., 133., 153., 107.,\n",
              "       199., 140.,  95., 183., 108., 190., 174., 149., 169., 138., 151.,\n",
              "       109., 178., 106., 195.,  96., 129., 166., 197., 148., 117., 193.,\n",
              "       170., 130., 183., 134., 128., 105., 115., 166., 183., 149., 110.,\n",
              "       164., 157., 170., 124., 145., 113., 150., 100.,  nan, 139., 150.,\n",
              "       101., 157., 187., 137., 121., 132., 130., 156., 180., 100., 122.,\n",
              "       185., 113., 123., 119., 113., 168., 126., 102., 116., 144., 140.,\n",
              "       124., 108., 154., 185., 106.,  97.,  96., 129., 124., 149.,  97.,\n",
              "       102., 146.,  nan, 100., 118., 179., 179., 113., 142., 101., 174.,\n",
              "       131., 179., 122., 105., 176., 103., 120., 118., 143., 134., 203.,\n",
              "       116., 150., 192., 187., 107., 192.,  97., 157., 128., 183., 112.,\n",
              "       173., 156., 137., 156., 112., 203., 141.,  97., 186., 113., 195.,\n",
              "       175., 154., 173.,  nan, 152., 114., 181., 111., 200., 100., 134.,\n",
              "       167., 198., 151., 121., 196., 171., 135., 186., 138., 133., 107.,\n",
              "       120., 168., 184., 154., 115., 168., 161., 171., 129., 150., 118.,\n",
              "       154., 103., 180., 141., 152., 104., 159., 191., 142., 123., 135.,\n",
              "       132., 158., 181., 105., 126., 186., 116., 124.,  nan, 115., 173.,\n",
              "       128., 103., 120., 146., 145., 125., 109., 156., 187., 110., 100.,\n",
              "        97., 133., 128., 154., 100., 104.,  nan, 203., 104., 119., 181.,\n",
              "       180., 116., 144., 102., 176., 135., 184., 124., 110., 180., 103.,\n",
              "       117., 120., 145., 133., 201., 117., 146., 195., 188., 108., 191.,\n",
              "       100., 158., 127., 181., 113., 171., 153., 137., 154., 112., 201.,\n",
              "       141., 100., 185., 111., 191., 176., 150., 171., 140., 153., 111.,\n",
              "       180., 107., 197., 101., 132., 168., 200., 150., 119., 197., 172.,\n",
              "       134., 185., 135., 132., 109., 116., 170., 187., 154., 111., 169.,\n",
              "       161., 174., 125., 148., 117., 154., 104., 183., 142., 155., 105.,\n",
              "       160., 191., 140., 123., 136., 132., 158., 182., 104., 126., 188.,\n",
              "       118., 127., 123., 118., 169., 128., 106., 119., 147., 141., 125.,\n",
              "       109., 158., 190., 110.,  99.,  98., 134., 129., 154., 100., 107.,\n",
              "       149., 203., 101., 119., 182., 181., 115., 145., 102., 176., 134.,\n",
              "       183., 123., 108., 177., 104., 117., 117., 145., 134., 199., 115.,\n",
              "       149., 192., 188., 107., 190.,  98., 158., 128., 180., 110., 172.,\n",
              "       157., 137., 158., 110., 203., 145.,  96., 186., 110., 194., 177.,\n",
              "       152., 172., 140., 154., 113., 179., 111., 196., 101., 131., 171.,\n",
              "       199., 151., 121., 196., 174., 135., 184., 137., 129., 108., 116.,\n",
              "       168., 184., 151., 114., 167., 160., 175., 127., 146., 118., 151.,\n",
              "       105., 180., 140., 155., 106., 160., 192., 138., 122., 135., 132.,\n",
              "       158., 184., 101., 126., 188., 118., 127., 123., 117., 172., 127.,\n",
              "       104., 121., 148., 141., 128., 113., 155., 189., 108.,  98., 100.,\n",
              "       134., 125., 151., 100., 107., 147., 200., 101., 120., 181., 182.,\n",
              "       117., 145., 106., 179., 134., 180., 126., 110., 180., 103., 116.,\n",
              "       119., 144., 133., 199., 115., 150., 192., 188., 109., 189., 101.,\n",
              "       159., 128., 182., 111., 171., 154., 134., 157., 112., 203., 142.,\n",
              "        97., 187., 111., 194., 176., 153., 171., 142., 153., 113., 183.,\n",
              "       108., 200.,  99., 131., 171., 200., 152., 119., 196., 173., 132.,\n",
              "       185., 138., 132., 110., 119., 167., 188., 151., 112., 166., 158.,\n",
              "       172., 127., 150., 115., 151., 103., 181., 141., 152., 105., 162.,\n",
              "       190., 141., 122., 136., 131., 157., 181., 103., 127., 189., 114.,\n",
              "       125., 123., 116., 172., 129., 107., 117., 148., 104., 121., 148.,\n",
              "       141., 128., 113., 155., 189., 108.,  98., 100., 134., 125., 151.,\n",
              "       100., 107., 147., 200., 101., 120., 181., 182., 117., 145., 106.,\n",
              "       134., 199., 115., 149., 192., 188., 107., 190.,  98., 158., 128.,\n",
              "       180., 110., 172., 157., 137., 158., 110.])"
            ]
          },
          "metadata": {},
          "execution_count": 22
        }
      ]
    },
    {
      "cell_type": "code",
      "source": [
        "y_colesterol"
      ],
      "metadata": {
        "colab": {
          "base_uri": "https://localhost:8080/"
        },
        "id": "TPEVC2d-dMxR",
        "outputId": "5a8d2375-f849-4f15-829d-d65e70c6bf62"
      },
      "execution_count": 18,
      "outputs": [
        {
          "output_type": "execute_result",
          "data": {
            "text/plain": [
              "array([111, 135, 136, 167, 158, 227, 131, 176, 223, 221, 116, 222, 102,\n",
              "       192, 152, 213, 125, 204, 189, 163, 189, 122, 228, 168, 102, 218,\n",
              "       123, 222, 208, 183, 204, 167, 188, 126, 213, 122, 225, 105, 155,\n",
              "       203, 225, 177, 139, 224, 207, 158, 218, 164, 154, 118, 138, 199,\n",
              "       219, 183, 128, 197, 196, 208, 152, 175, 129, 185, 107, 211, 167,\n",
              "       185, 110, 194, 221, 166, 143, 163, 158, 191, 216, 106, 146, 220,\n",
              "       131, 147, 141, 130, 204, 152, 111, 139, 172, 168, 148, 123, 189,\n",
              "       220, 120, 106, 105, 157, 149, 185, 106, 115, 177, 230, 108, 140,\n",
              "       214, 216, 130, 169, 110, 209, 162, 214, 145, 116, 209, 116, 139,\n",
              "       143, 168, 158, 232, 136, 180, 228, 222, 117, 224, 104, 195, 156,\n",
              "       213, 133, 208, 195, 163, 195, 124, 231, 172, 104, 221, 128, 222,\n",
              "       214, 184, 204, 171, 195, 132, 214, 123, 233, 107, 162, 204, 227,\n",
              "       185, 142, 225, 212, 161, 220, 168, 155, 125, 144, 201, 222, 189,\n",
              "       132, 204, 201, 211, 156, 179, 129, 185, 107, 213, 172, 193, 114,\n",
              "       202, 222, 168, 146, 170, 165, 196, 224, 108, 149, 224, 136, 152,\n",
              "       143, 135, 211, 156, 115, 143, 179, 173, 148, 127, 194, 225, 127,\n",
              "       106, 112, 164, 151, 191, 110, 116, 180, 235, 108, 141, 219, 219,\n",
              "       138, 169, 116, 212, 162, 220, 151, 119, 212, 111, 142, 138, 172,\n",
              "       158, 228, 134, 181, 231, 223, 121, 222, 102, 195, 156, 214, 132,\n",
              "       204, 190, 167, 195, 127, 235, 171, 110, 221, 128, 226, 208, 191,\n",
              "       205, 173, 191, 128, 220, 126, 232, 108, 159, 211, 232, 182, 145,\n",
              "       224, 209, 160, 219, 170, 161, 122, 141, 204, 226, 187, 129, 199,\n",
              "       199, 214, 159, 176, 129, 187, 109, 212, 170, 191, 116, 202, 226,\n",
              "       166, 151, 170, 166, 193, 218, 109, 152, 220, 133, 152, 142, 131,\n",
              "       204, 153, 114, 144, 172, 176, 150, 129, 190, 226, 128, 106, 107,\n",
              "       159, 157, 192, 110, 115, 183, 233, 112, 146, 222, 216, 134, 174,\n",
              "       114, 211, 167, 214, 145, 120, 217, 113, 141, 140, 171, 163, 232,\n",
              "       131, 184, 225, 223, 121, 223, 105, 197, 160, 218, 131, 211, 194,\n",
              "       169, 189, 128, 228, 169, 108, 219, 124, 224, 214, 190, 205, 167,\n",
              "       190, 128, 217, 126, 228, 105, 162, 211, 227, 178, 146, 227, 208,\n",
              "       163, 225, 167, 162, 125, 144, 199, 226, 183, 136, 199, 204, 215,\n",
              "       155, 179, 133, 186, 111, 219, 173, 185, 118, 199, 226, 169, 144,\n",
              "       166, 166, 198, 222, 110, 154, 226, 135, 151, 146, 133, 205, 154,\n",
              "       116, 145, 174, 168, 156, 124, 196, 227, 122, 106, 110, 158, 154,\n",
              "       190, 110, 120, 180, 232, 110, 142, 222, 218, 138, 176, 115, 211,\n",
              "       168, 216, 147, 124, 215, 117, 139, 138, 171, 158, 232, 139, 178,\n",
              "       224, 224, 116, 223, 109, 193, 155, 221, 130, 212, 190, 169, 191,\n",
              "       122, 234, 175, 108, 220, 126, 227, 216, 188, 205, 172, 192, 129,\n",
              "       219, 127, 228, 105, 159, 205, 228, 178, 139, 232, 212, 162, 226,\n",
              "       171, 159, 120, 143, 200, 221, 184, 134, 200, 201, 210, 159, 178,\n",
              "       137, 190, 110, 213, 170, 193, 113, 196, 222, 174, 143, 169, 165,\n",
              "       194, 217, 113, 150, 223, 133, 149, 149, 130, 207, 157, 115, 147,\n",
              "       176, 116, 145, 174, 168, 156, 124, 196, 227, 122, 106, 110, 158,\n",
              "       154, 190, 110, 120, 180, 232, 110, 142, 222, 218, 138, 176, 115,\n",
              "       163, 232, 131, 184, 225, 223, 121, 223, 105, 197, 160, 218, 131,\n",
              "       211, 194, 169, 189, 128])"
            ]
          },
          "metadata": {},
          "execution_count": 18
        }
      ]
    },
    {
      "cell_type": "code",
      "source": [
        "np.corrcoef(X_peso , y_colesterol)"
      ],
      "metadata": {
        "colab": {
          "base_uri": "https://localhost:8080/"
        },
        "id": "OMWCqq88ciP0",
        "outputId": "843f3f89-1502-4680-c300-2a7f87de1f89"
      },
      "execution_count": 29,
      "outputs": [
        {
          "output_type": "execute_result",
          "data": {
            "text/plain": [
              "array([[1.        , 0.98541832],\n",
              "       [0.98541832, 1.        ]])"
            ]
          },
          "metadata": {},
          "execution_count": 29
        }
      ]
    },
    {
      "cell_type": "markdown",
      "source": [
        "## Plot da matriz de correlação"
      ],
      "metadata": {
        "id": "uXU_PxynhoWu"
      }
    },
    {
      "cell_type": "code",
      "source": [
        "correlation = df.corr()\n",
        "plot = sbn.heatmap(correlation, annot = True,  linewidths=.3)\n",
        "plot"
      ],
      "metadata": {
        "colab": {
          "base_uri": "https://localhost:8080/",
          "height": 542
        },
        "id": "1TK_cYq1hrKn",
        "outputId": "d1edc208-723b-4d79-8392-831eaf8763f9"
      },
      "execution_count": 33,
      "outputs": [
        {
          "output_type": "stream",
          "name": "stderr",
          "text": [
            "<ipython-input-33-dca5d04d2887>:1: FutureWarning:\n",
            "\n",
            "The default value of numeric_only in DataFrame.corr is deprecated. In a future version, it will default to False. Select only valid columns or specify the value of numeric_only to silence this warning.\n",
            "\n"
          ]
        },
        {
          "output_type": "execute_result",
          "data": {
            "text/plain": [
              "<Axes: >"
            ]
          },
          "metadata": {},
          "execution_count": 33
        },
        {
          "output_type": "display_data",
          "data": {
            "text/plain": [
              "<Figure size 640x480 with 2 Axes>"
            ],
            "image/png": "[encoded data removed]"
          },
          "metadata": {}
        }
      ]
    },
    {
      "cell_type": "code",
      "source": [
        "X_peso = X_peso.reshape(-1,1)"
      ],
      "metadata": {
        "id": "Lr1Ycy78ircg"
      },
      "execution_count": 67,
      "outputs": []
    },
    {
      "cell_type": "code",
      "source": [
        "from sklearn.linear_model import LinearRegression"
      ],
      "metadata": {
        "id": "386NTIERi2wF"
      },
      "execution_count": 35,
      "outputs": []
    },
    {
      "cell_type": "code",
      "source": [
        "prev_colesterol = LinearRegression()"
      ],
      "metadata": {
        "id": "bwE1tjDcjDmg"
      },
      "execution_count": 36,
      "outputs": []
    },
    {
      "cell_type": "code",
      "source": [
        "prev_colesterol.predict([[95]])"
      ],
      "metadata": {
        "id": "E4LH61hZtZs6",
        "outputId": "f8013c75-f640-43ad-cf0a-0f2cbeab1fc9",
        "colab": {
          "base_uri": "https://localhost:8080/"
        }
      },
      "execution_count": 72,
      "outputs": [
        {
          "output_type": "execute_result",
          "data": {
            "text/plain": [
              "array([109.46299311])"
            ]
          },
          "metadata": {},
          "execution_count": 72
        }
      ]
    },
    {
      "cell_type": "code",
      "source": [
        "df[df['peso'] == 95].values"
      ],
      "metadata": {
        "id": "vu9iK9Ayt9Io",
        "outputId": "6c7c233b-5822-4a2b-cb48-386be264fcb6",
        "colab": {
          "base_uri": "https://localhost:8080/"
        }
      },
      "execution_count": 73,
      "outputs": [
        {
          "output_type": "execute_result",
          "data": {
            "text/plain": [
              "array([[25, 95.0, 102, 'Masculino']], dtype=object)"
            ]
          },
          "metadata": {},
          "execution_count": 73
        }
      ]
    },
    {
      "cell_type": "code",
      "source": [
        "prev_colesterol.predict([[220]])"
      ],
      "metadata": {
        "id": "fprSeQAjuMTc",
        "outputId": "666cc5c8-e1c5-4646-ed08-5ff22dfc8f91",
        "colab": {
          "base_uri": "https://localhost:8080/"
        }
      },
      "execution_count": 74,
      "outputs": [
        {
          "output_type": "execute_result",
          "data": {
            "text/plain": [
              "array([266.76698828])"
            ]
          },
          "metadata": {},
          "execution_count": 74
        }
      ]
    },
    {
      "cell_type": "code",
      "source": [
        "type(prev_colesterol)"
      ],
      "metadata": {
        "colab": {
          "base_uri": "https://localhost:8080/",
          "height": 186
        },
        "id": "mB48TIupjOFj",
        "outputId": "77106fb2-0cf5-474f-c976-092f8d56e001"
      },
      "execution_count": 37,
      "outputs": [
        {
          "output_type": "execute_result",
          "data": {
            "text/plain": [
              "sklearn.linear_model._base.LinearRegression"
            ],
            "text/html": [
              "<div style=\"max-width:800px; border: 1px solid var(--colab-border-color);\"><style>\n",
              "      pre.function-repr-contents {\n",
              "        overflow-x: auto;\n",
              "        padding: 8px 12px;\n",
              "        max-height: 500px;\n",
              "      }\n",
              "\n",
              "      pre.function-repr-contents.function-repr-contents-collapsed {\n",
              "        cursor: pointer;\n",
              "        max-height: 100px;\n",
              "      }\n",
              "    </style>\n",
              "    <pre style=\"white-space: initial; background:\n",
              "         var(--colab-secondary-surface-color); padding: 8px 12px;\n",
              "         border-bottom: 1px solid var(--colab-border-color);\"><b>sklearn.linear_model._base.LinearRegression</b><br/>def __init__(*, fit_intercept=True, copy_X=True, n_jobs=None, positive=False)</pre><pre class=\"function-repr-contents function-repr-contents-collapsed\" style=\"\"><a class=\"filepath\" style=\"display:none\" href=\"#\">/usr/local/lib/python3.10/dist-packages/sklearn/linear_model/_base.py</a>Ordinary least squares Linear Regression.\n",
              "\n",
              "LinearRegression fits a linear model with coefficients w = (w1, ..., wp)\n",
              "to minimize the residual sum of squares between the observed targets in\n",
              "the dataset, and the targets predicted by the linear approximation.\n",
              "\n",
              "Parameters\n",
              "----------\n",
              "fit_intercept : bool, default=True\n",
              "    Whether to calculate the intercept for this model. If set\n",
              "    to False, no intercept will be used in calculations\n",
              "    (i.e. data is expected to be centered).\n",
              "\n",
              "copy_X : bool, default=True\n",
              "    If True, X will be copied; else, it may be overwritten.\n",
              "\n",
              "n_jobs : int, default=None\n",
              "    The number of jobs to use for the computation. This will only provide\n",
              "    speedup in case of sufficiently large problems, that is if firstly\n",
              "    `n_targets &gt; 1` and secondly `X` is sparse or if `positive` is set\n",
              "    to `True`. ``None`` means 1 unless in a\n",
              "    :obj:`joblib.parallel_backend` context. ``-1`` means using all\n",
              "    processors. See :term:`Glossary &lt;n_jobs&gt;` for more details.\n",
              "\n",
              "positive : bool, default=False\n",
              "    When set to ``True``, forces the coefficients to be positive. This\n",
              "    option is only supported for dense arrays.\n",
              "\n",
              "    .. versionadded:: 0.24\n",
              "\n",
              "Attributes\n",
              "----------\n",
              "coef_ : array of shape (n_features, ) or (n_targets, n_features)\n",
              "    Estimated coefficients for the linear regression problem.\n",
              "    If multiple targets are passed during the fit (y 2D), this\n",
              "    is a 2D array of shape (n_targets, n_features), while if only\n",
              "    one target is passed, this is a 1D array of length n_features.\n",
              "\n",
              "rank_ : int\n",
              "    Rank of matrix `X`. Only available when `X` is dense.\n",
              "\n",
              "singular_ : array of shape (min(X, y),)\n",
              "    Singular values of `X`. Only available when `X` is dense.\n",
              "\n",
              "intercept_ : float or array of shape (n_targets,)\n",
              "    Independent term in the linear model. Set to 0.0 if\n",
              "    `fit_intercept = False`.\n",
              "\n",
              "n_features_in_ : int\n",
              "    Number of features seen during :term:`fit`.\n",
              "\n",
              "    .. versionadded:: 0.24\n",
              "\n",
              "feature_names_in_ : ndarray of shape (`n_features_in_`,)\n",
              "    Names of features seen during :term:`fit`. Defined only when `X`\n",
              "    has feature names that are all strings.\n",
              "\n",
              "    .. versionadded:: 1.0\n",
              "\n",
              "See Also\n",
              "--------\n",
              "Ridge : Ridge regression addresses some of the\n",
              "    problems of Ordinary Least Squares by imposing a penalty on the\n",
              "    size of the coefficients with l2 regularization.\n",
              "Lasso : The Lasso is a linear model that estimates\n",
              "    sparse coefficients with l1 regularization.\n",
              "ElasticNet : Elastic-Net is a linear regression\n",
              "    model trained with both l1 and l2 -norm regularization of the\n",
              "    coefficients.\n",
              "\n",
              "Notes\n",
              "-----\n",
              "From the implementation point of view, this is just plain Ordinary\n",
              "Least Squares (scipy.linalg.lstsq) or Non Negative Least Squares\n",
              "(scipy.optimize.nnls) wrapped as a predictor object.\n",
              "\n",
              "Examples\n",
              "--------\n",
              "&gt;&gt;&gt; import numpy as np\n",
              "&gt;&gt;&gt; from sklearn.linear_model import LinearRegression\n",
              "&gt;&gt;&gt; X = np.array([[1, 1], [1, 2], [2, 2], [2, 3]])\n",
              "&gt;&gt;&gt; # y = 1 * x_0 + 2 * x_1 + 3\n",
              "&gt;&gt;&gt; y = np.dot(X, np.array([1, 2])) + 3\n",
              "&gt;&gt;&gt; reg = LinearRegression().fit(X, y)\n",
              "&gt;&gt;&gt; reg.score(X, y)\n",
              "1.0\n",
              "&gt;&gt;&gt; reg.coef_\n",
              "array([1., 2.])\n",
              "&gt;&gt;&gt; reg.intercept_\n",
              "3.0...\n",
              "&gt;&gt;&gt; reg.predict(np.array([[3, 5]]))\n",
              "array([16.])</pre>\n",
              "      <script>\n",
              "      if (google.colab.kernel.accessAllowed && google.colab.files && google.colab.files.view) {\n",
              "        for (const element of document.querySelectorAll('.filepath')) {\n",
              "          element.style.display = 'block'\n",
              "          element.onclick = (event) => {\n",
              "            event.preventDefault();\n",
              "            event.stopPropagation();\n",
              "            google.colab.files.view(element.textContent, 502);\n",
              "          };\n",
              "        }\n",
              "      }\n",
              "      for (const element of document.querySelectorAll('.function-repr-contents')) {\n",
              "        element.onclick = (event) => {\n",
              "          event.preventDefault();\n",
              "          event.stopPropagation();\n",
              "          element.classList.toggle('function-repr-contents-collapsed');\n",
              "        };\n",
              "      }\n",
              "      </script>\n",
              "      </div>"
            ]
          },
          "metadata": {},
          "execution_count": 37
        }
      ]
    },
    {
      "cell_type": "code",
      "source": [
        "prev_colesterol.fit(X_peso , y_colesterol)"
      ],
      "metadata": {
        "colab": {
          "base_uri": "https://localhost:8080/",
          "height": 74
        },
        "id": "d4zFLsKTjR3h",
        "outputId": "95b29122-e1d9-4105-cdda-1f84d5086995"
      },
      "execution_count": 38,
      "outputs": [
        {
          "output_type": "execute_result",
          "data": {
            "text/plain": [
              "LinearRegression()"
            ],
            "text/html": [
              "<style>#sk-container-id-1 {color: black;background-color: white;}#sk-container-id-1 pre{padding: 0;}#sk-container-id-1 div.sk-toggleable {background-color: white;}#sk-container-id-1 label.sk-toggleable__label {cursor: pointer;display: block;width: 100%;margin-bottom: 0;padding: 0.3em;box-sizing: border-box;text-align: center;}#sk-container-id-1 label.sk-toggleable__label-arrow:before {content: \"▸\";float: left;margin-right: 0.25em;color: #696969;}#sk-container-id-1 label.sk-toggleable__label-arrow:hover:before {color: black;}#sk-container-id-1 div.sk-estimator:hover label.sk-toggleable__label-arrow:before {color: black;}#sk-container-id-1 div.sk-toggleable__content {max-height: 0;max-width: 0;overflow: hidden;text-align: left;background-color: #f0f8ff;}#sk-container-id-1 div.sk-toggleable__content pre {margin: 0.2em;color: black;border-radius: 0.25em;background-color: #f0f8ff;}#sk-container-id-1 input.sk-toggleable__control:checked~div.sk-toggleable__content {max-height: 200px;max-width: 100%;overflow: auto;}#sk-container-id-1 input.sk-toggleable__control:checked~label.sk-toggleable__label-arrow:before {content: \"▾\";}#sk-container-id-1 div.sk-estimator input.sk-toggleable__control:checked~label.sk-toggleable__label {background-color: #d4ebff;}#sk-container-id-1 div.sk-label input.sk-toggleable__control:checked~label.sk-toggleable__label {background-color: #d4ebff;}#sk-container-id-1 input.sk-hidden--visually {border: 0;clip: rect(1px 1px 1px 1px);clip: rect(1px, 1px, 1px, 1px);height: 1px;margin: -1px;overflow: hidden;padding: 0;position: absolute;width: 1px;}#sk-container-id-1 div.sk-estimator {font-family: monospace;background-color: #f0f8ff;border: 1px dotted black;border-radius: 0.25em;box-sizing: border-box;margin-bottom: 0.5em;}#sk-container-id-1 div.sk-estimator:hover {background-color: #d4ebff;}#sk-container-id-1 div.sk-parallel-item::after {content: \"\";width: 100%;border-bottom: 1px solid gray;flex-grow: 1;}#sk-container-id-1 div.sk-label:hover label.sk-toggleable__label {background-color: #d4ebff;}#sk-container-id-1 div.sk-serial::before {content: \"\";position: absolute;border-left: 1px solid gray;box-sizing: border-box;top: 0;bottom: 0;left: 50%;z-index: 0;}#sk-container-id-1 div.sk-serial {display: flex;flex-direction: column;align-items: center;background-color: white;padding-right: 0.2em;padding-left: 0.2em;position: relative;}#sk-container-id-1 div.sk-item {position: relative;z-index: 1;}#sk-container-id-1 div.sk-parallel {display: flex;align-items: stretch;justify-content: center;background-color: white;position: relative;}#sk-container-id-1 div.sk-item::before, #sk-container-id-1 div.sk-parallel-item::before {content: \"\";position: absolute;border-left: 1px solid gray;box-sizing: border-box;top: 0;bottom: 0;left: 50%;z-index: -1;}#sk-container-id-1 div.sk-parallel-item {display: flex;flex-direction: column;z-index: 1;position: relative;background-color: white;}#sk-container-id-1 div.sk-parallel-item:first-child::after {align-self: flex-end;width: 50%;}#sk-container-id-1 div.sk-parallel-item:last-child::after {align-self: flex-start;width: 50%;}#sk-container-id-1 div.sk-parallel-item:only-child::after {width: 0;}#sk-container-id-1 div.sk-dashed-wrapped {border: 1px dashed gray;margin: 0 0.4em 0.5em 0.4em;box-sizing: border-box;padding-bottom: 0.4em;background-color: white;}#sk-container-id-1 div.sk-label label {font-family: monospace;font-weight: bold;display: inline-block;line-height: 1.2em;}#sk-container-id-1 div.sk-label-container {text-align: center;}#sk-container-id-1 div.sk-container {/* jupyter's `normalize.less` sets `[hidden] { display: none; }` but bootstrap.min.css set `[hidden] { display: none !important; }` so we also need the `!important` here to be able to override the default hidden behavior on the sphinx rendered scikit-learn.org. See: https://github.com/scikit-learn/scikit-learn/issues/21755 */display: inline-block !important;position: relative;}#sk-container-id-1 div.sk-text-repr-fallback {display: none;}</style><div id=\"sk-container-id-1\" class=\"sk-top-container\"><div class=\"sk-text-repr-fallback\"><pre>LinearRegression()</pre><b>In a Jupyter environment, please rerun this cell to show the HTML representation or trust the notebook. <br />On GitHub, the HTML representation is unable to render, please try loading this page with nbviewer.org.</b></div><div class=\"sk-container\" hidden><div class=\"sk-item\"><div class=\"sk-estimator sk-toggleable\"><input class=\"sk-toggleable__control sk-hidden--visually\" id=\"sk-estimator-id-1\" type=\"checkbox\" checked><label for=\"sk-estimator-id-1\" class=\"sk-toggleable__label sk-toggleable__label-arrow\">LinearRegression</label><div class=\"sk-toggleable__content\"><pre>LinearRegression()</pre></div></div></div></div></div>"
            ]
          },
          "metadata": {},
          "execution_count": 38
        }
      ]
    },
    {
      "cell_type": "code",
      "source": [
        "previsoes_colesterol = prev_colesterol.predict(X_peso)"
      ],
      "metadata": {
        "id": "9kzVk3YEkztu"
      },
      "execution_count": 45,
      "outputs": []
    },
    {
      "cell_type": "code",
      "source": [
        "X_peso = X_peso.ravel()"
      ],
      "metadata": {
        "id": "I_T_0zBYjzbK"
      },
      "execution_count": 46,
      "outputs": []
    },
    {
      "cell_type": "code",
      "source": [
        "genre = df.iloc[: , 3].values\n",
        "genre.dtype"
      ],
      "metadata": {
        "id": "QVwh6LPzpEea",
        "outputId": "e7883e96-c016-44f8-e804-98818044065a",
        "colab": {
          "base_uri": "https://localhost:8080/"
        }
      },
      "execution_count": 57,
      "outputs": [
        {
          "output_type": "execute_result",
          "data": {
            "text/plain": [
              "dtype('O')"
            ]
          },
          "metadata": {},
          "execution_count": 57
        }
      ]
    },
    {
      "cell_type": "code",
      "source": [
        "grafico = px.scatter(x = X_peso, y = y_colesterol)\n",
        "grafico.add_scatter(x = X_peso , y = previsoes_colesterol, name= 'previsões')\n",
        "grafico.show()"
      ],
      "metadata": {
        "colab": {
          "base_uri": "https://localhost:8080/",
          "height": 542
        },
        "id": "XEwJDEDBj5T7",
        "outputId": "3f3ceabb-a596-4a35-c219-881df921a880"
      },
      "execution_count": 59,
      "outputs": [
        {
          "output_type": "display_data",
          "data": {
            "text/html": [
              "<html>\n",
              "<head><meta charset=\"utf-8\" /></head>\n",
              "<body>\n",
              "    <div>            <script src=\"https://cdnjs.cloudflare.com/ajax/libs/mathjax/2.7.5/MathJax.js?config=TeX-AMS-MML_SVG\"></script><script type=\"text/javascript\">if (window.MathJax && window.MathJax.Hub && window.MathJax.Hub.Config) {window.MathJax.Hub.Config({SVG: {font: \"STIX-Web\"}});}</script>                <script type=\"text/javascript\">window.PlotlyConfig = {MathJaxConfig: 'local'};</script>\n",
              "        <script charset=\"utf-8\" src=\"https://cdn.plot.ly/plotly-2.24.1.min.js\"></script>                <div id=\"48a7795b-3972-4690-a147-ac46cb25f0d7\" class=\"plotly-graph-div\" style=\"height:525px; width:100%;\"></div>            <script type=\"text/javascript\">                                    window.PLOTLYENV=window.PLOTLYENV || {};                                    if (document.getElementById(\"48a7795b-3972-4690-a147-ac46cb25f0d7\")) {                    Plotly.newPlot(                        \"48a7795b-3972-4690-a147-ac46cb25f0d7\",                        [{\"hovertemplate\":\"x=%{x}\\u003cbr\\u003ey=%{y}\\u003cextra\\u003e\\u003c\\u002fextra\\u003e\",\"legendgroup\":\"\",\"marker\":{\"color\":\"#636efa\",\"symbol\":\"circle\"},\"mode\":\"markers\",\"name\":\"\",\"orientation\":\"v\",\"showlegend\":false,\"x\":[102.0,115.0,115.0,140.0,130.0,198.0,114.0,145.0,191.0,186.0,104.0,188.0,96.0,156.0,125.0,178.0,109.0,168.0,152.0,133.0,153.0,107.0,199.0,140.0,95.0,183.0,108.0,190.0,174.0,149.0,169.0,138.0,151.0,109.0,178.0,106.0,195.0,96.0,129.0,166.0,197.0,148.0,117.0,193.0,170.0,130.0,183.0,134.0,128.0,105.0,115.0,166.0,183.0,149.0,110.0,164.0,157.0,170.0,124.0,145.0,113.0,150.0,100.0,143.16,139.0,150.0,101.0,157.0,187.0,137.0,121.0,132.0,130.0,156.0,180.0,100.0,122.0,185.0,113.0,123.0,119.0,113.0,168.0,126.0,102.0,116.0,144.0,140.0,124.0,108.0,154.0,185.0,106.0,97.0,96.0,129.0,124.0,149.0,97.0,102.0,146.0,143.16,100.0,118.0,179.0,179.0,113.0,142.0,101.0,174.0,131.0,179.0,122.0,105.0,176.0,103.0,120.0,118.0,143.0,134.0,203.0,116.0,150.0,192.0,187.0,107.0,192.0,97.0,157.0,128.0,183.0,112.0,173.0,156.0,137.0,156.0,112.0,203.0,141.0,97.0,186.0,113.0,195.0,175.0,154.0,173.0,143.16,152.0,114.0,181.0,111.0,200.0,100.0,134.0,167.0,198.0,151.0,121.0,196.0,171.0,135.0,186.0,138.0,133.0,107.0,120.0,168.0,184.0,154.0,115.0,168.0,161.0,171.0,129.0,150.0,118.0,154.0,103.0,180.0,141.0,152.0,104.0,159.0,191.0,142.0,123.0,135.0,132.0,158.0,181.0,105.0,126.0,186.0,116.0,124.0,143.16,115.0,173.0,128.0,103.0,120.0,146.0,145.0,125.0,109.0,156.0,187.0,110.0,100.0,97.0,133.0,128.0,154.0,100.0,104.0,143.16,203.0,104.0,119.0,181.0,180.0,116.0,144.0,102.0,176.0,135.0,184.0,124.0,110.0,180.0,103.0,117.0,120.0,145.0,133.0,201.0,117.0,146.0,195.0,188.0,108.0,191.0,100.0,158.0,127.0,181.0,113.0,171.0,153.0,137.0,154.0,112.0,201.0,141.0,100.0,185.0,111.0,191.0,176.0,150.0,171.0,140.0,153.0,111.0,180.0,107.0,197.0,101.0,132.0,168.0,200.0,150.0,119.0,197.0,172.0,134.0,185.0,135.0,132.0,109.0,116.0,170.0,187.0,154.0,111.0,169.0,161.0,174.0,125.0,148.0,117.0,154.0,104.0,183.0,142.0,155.0,105.0,160.0,191.0,140.0,123.0,136.0,132.0,158.0,182.0,104.0,126.0,188.0,118.0,127.0,123.0,118.0,169.0,128.0,106.0,119.0,147.0,141.0,125.0,109.0,158.0,190.0,110.0,99.0,98.0,134.0,129.0,154.0,100.0,107.0,149.0,203.0,101.0,119.0,182.0,181.0,115.0,145.0,102.0,176.0,134.0,183.0,123.0,108.0,177.0,104.0,117.0,117.0,145.0,134.0,199.0,115.0,149.0,192.0,188.0,107.0,190.0,98.0,158.0,128.0,180.0,110.0,172.0,157.0,137.0,158.0,110.0,203.0,145.0,96.0,186.0,110.0,194.0,177.0,152.0,172.0,140.0,154.0,113.0,179.0,111.0,196.0,101.0,131.0,171.0,199.0,151.0,121.0,196.0,174.0,135.0,184.0,137.0,129.0,108.0,116.0,168.0,184.0,151.0,114.0,167.0,160.0,175.0,127.0,146.0,118.0,151.0,105.0,180.0,140.0,155.0,106.0,160.0,192.0,138.0,122.0,135.0,132.0,158.0,184.0,101.0,126.0,188.0,118.0,127.0,123.0,117.0,172.0,127.0,104.0,121.0,148.0,141.0,128.0,113.0,155.0,189.0,108.0,98.0,100.0,134.0,125.0,151.0,100.0,107.0,147.0,200.0,101.0,120.0,181.0,182.0,117.0,145.0,106.0,179.0,134.0,180.0,126.0,110.0,180.0,103.0,116.0,119.0,144.0,133.0,199.0,115.0,150.0,192.0,188.0,109.0,189.0,101.0,159.0,128.0,182.0,111.0,171.0,154.0,134.0,157.0,112.0,203.0,142.0,97.0,187.0,111.0,194.0,176.0,153.0,171.0,142.0,153.0,113.0,183.0,108.0,200.0,99.0,131.0,171.0,200.0,152.0,119.0,196.0,173.0,132.0,185.0,138.0,132.0,110.0,119.0,167.0,188.0,151.0,112.0,166.0,158.0,172.0,127.0,150.0,115.0,151.0,103.0,181.0,141.0,152.0,105.0,162.0,190.0,141.0,122.0,136.0,131.0,157.0,181.0,103.0,127.0,189.0,114.0,125.0,123.0,116.0,172.0,129.0,107.0,117.0,148.0,104.0,121.0,148.0,141.0,128.0,113.0,155.0,189.0,108.0,98.0,100.0,134.0,125.0,151.0,100.0,107.0,147.0,200.0,101.0,120.0,181.0,182.0,117.0,145.0,106.0,134.0,199.0,115.0,149.0,192.0,188.0,107.0,190.0,98.0,158.0,128.0,180.0,110.0,172.0,157.0,137.0,158.0,110.0],\"xaxis\":\"x\",\"y\":[111,135,136,167,158,227,131,176,223,221,116,222,102,192,152,213,125,204,189,163,189,122,228,168,102,218,123,222,208,183,204,167,188,126,213,122,225,105,155,203,225,177,139,224,207,158,218,164,154,118,138,199,219,183,128,197,196,208,152,175,129,185,107,211,167,185,110,194,221,166,143,163,158,191,216,106,146,220,131,147,141,130,204,152,111,139,172,168,148,123,189,220,120,106,105,157,149,185,106,115,177,230,108,140,214,216,130,169,110,209,162,214,145,116,209,116,139,143,168,158,232,136,180,228,222,117,224,104,195,156,213,133,208,195,163,195,124,231,172,104,221,128,222,214,184,204,171,195,132,214,123,233,107,162,204,227,185,142,225,212,161,220,168,155,125,144,201,222,189,132,204,201,211,156,179,129,185,107,213,172,193,114,202,222,168,146,170,165,196,224,108,149,224,136,152,143,135,211,156,115,143,179,173,148,127,194,225,127,106,112,164,151,191,110,116,180,235,108,141,219,219,138,169,116,212,162,220,151,119,212,111,142,138,172,158,228,134,181,231,223,121,222,102,195,156,214,132,204,190,167,195,127,235,171,110,221,128,226,208,191,205,173,191,128,220,126,232,108,159,211,232,182,145,224,209,160,219,170,161,122,141,204,226,187,129,199,199,214,159,176,129,187,109,212,170,191,116,202,226,166,151,170,166,193,218,109,152,220,133,152,142,131,204,153,114,144,172,176,150,129,190,226,128,106,107,159,157,192,110,115,183,233,112,146,222,216,134,174,114,211,167,214,145,120,217,113,141,140,171,163,232,131,184,225,223,121,223,105,197,160,218,131,211,194,169,189,128,228,169,108,219,124,224,214,190,205,167,190,128,217,126,228,105,162,211,227,178,146,227,208,163,225,167,162,125,144,199,226,183,136,199,204,215,155,179,133,186,111,219,173,185,118,199,226,169,144,166,166,198,222,110,154,226,135,151,146,133,205,154,116,145,174,168,156,124,196,227,122,106,110,158,154,190,110,120,180,232,110,142,222,218,138,176,115,211,168,216,147,124,215,117,139,138,171,158,232,139,178,224,224,116,223,109,193,155,221,130,212,190,169,191,122,234,175,108,220,126,227,216,188,205,172,192,129,219,127,228,105,159,205,228,178,139,232,212,162,226,171,159,120,143,200,221,184,134,200,201,210,159,178,137,190,110,213,170,193,113,196,222,174,143,169,165,194,217,113,150,223,133,149,149,130,207,157,115,147,176,116,145,174,168,156,124,196,227,122,106,110,158,154,190,110,120,180,232,110,142,222,218,138,176,115,163,232,131,184,225,223,121,223,105,197,160,218,131,211,194,169,189,128],\"yaxis\":\"y\",\"type\":\"scatter\"},{\"name\":\"previs\\u00f5es\",\"x\":[102.0,115.0,115.0,140.0,130.0,198.0,114.0,145.0,191.0,186.0,104.0,188.0,96.0,156.0,125.0,178.0,109.0,168.0,152.0,133.0,153.0,107.0,199.0,140.0,95.0,183.0,108.0,190.0,174.0,149.0,169.0,138.0,151.0,109.0,178.0,106.0,195.0,96.0,129.0,166.0,197.0,148.0,117.0,193.0,170.0,130.0,183.0,134.0,128.0,105.0,115.0,166.0,183.0,149.0,110.0,164.0,157.0,170.0,124.0,145.0,113.0,150.0,100.0,143.16,139.0,150.0,101.0,157.0,187.0,137.0,121.0,132.0,130.0,156.0,180.0,100.0,122.0,185.0,113.0,123.0,119.0,113.0,168.0,126.0,102.0,116.0,144.0,140.0,124.0,108.0,154.0,185.0,106.0,97.0,96.0,129.0,124.0,149.0,97.0,102.0,146.0,143.16,100.0,118.0,179.0,179.0,113.0,142.0,101.0,174.0,131.0,179.0,122.0,105.0,176.0,103.0,120.0,118.0,143.0,134.0,203.0,116.0,150.0,192.0,187.0,107.0,192.0,97.0,157.0,128.0,183.0,112.0,173.0,156.0,137.0,156.0,112.0,203.0,141.0,97.0,186.0,113.0,195.0,175.0,154.0,173.0,143.16,152.0,114.0,181.0,111.0,200.0,100.0,134.0,167.0,198.0,151.0,121.0,196.0,171.0,135.0,186.0,138.0,133.0,107.0,120.0,168.0,184.0,154.0,115.0,168.0,161.0,171.0,129.0,150.0,118.0,154.0,103.0,180.0,141.0,152.0,104.0,159.0,191.0,142.0,123.0,135.0,132.0,158.0,181.0,105.0,126.0,186.0,116.0,124.0,143.16,115.0,173.0,128.0,103.0,120.0,146.0,145.0,125.0,109.0,156.0,187.0,110.0,100.0,97.0,133.0,128.0,154.0,100.0,104.0,143.16,203.0,104.0,119.0,181.0,180.0,116.0,144.0,102.0,176.0,135.0,184.0,124.0,110.0,180.0,103.0,117.0,120.0,145.0,133.0,201.0,117.0,146.0,195.0,188.0,108.0,191.0,100.0,158.0,127.0,181.0,113.0,171.0,153.0,137.0,154.0,112.0,201.0,141.0,100.0,185.0,111.0,191.0,176.0,150.0,171.0,140.0,153.0,111.0,180.0,107.0,197.0,101.0,132.0,168.0,200.0,150.0,119.0,197.0,172.0,134.0,185.0,135.0,132.0,109.0,116.0,170.0,187.0,154.0,111.0,169.0,161.0,174.0,125.0,148.0,117.0,154.0,104.0,183.0,142.0,155.0,105.0,160.0,191.0,140.0,123.0,136.0,132.0,158.0,182.0,104.0,126.0,188.0,118.0,127.0,123.0,118.0,169.0,128.0,106.0,119.0,147.0,141.0,125.0,109.0,158.0,190.0,110.0,99.0,98.0,134.0,129.0,154.0,100.0,107.0,149.0,203.0,101.0,119.0,182.0,181.0,115.0,145.0,102.0,176.0,134.0,183.0,123.0,108.0,177.0,104.0,117.0,117.0,145.0,134.0,199.0,115.0,149.0,192.0,188.0,107.0,190.0,98.0,158.0,128.0,180.0,110.0,172.0,157.0,137.0,158.0,110.0,203.0,145.0,96.0,186.0,110.0,194.0,177.0,152.0,172.0,140.0,154.0,113.0,179.0,111.0,196.0,101.0,131.0,171.0,199.0,151.0,121.0,196.0,174.0,135.0,184.0,137.0,129.0,108.0,116.0,168.0,184.0,151.0,114.0,167.0,160.0,175.0,127.0,146.0,118.0,151.0,105.0,180.0,140.0,155.0,106.0,160.0,192.0,138.0,122.0,135.0,132.0,158.0,184.0,101.0,126.0,188.0,118.0,127.0,123.0,117.0,172.0,127.0,104.0,121.0,148.0,141.0,128.0,113.0,155.0,189.0,108.0,98.0,100.0,134.0,125.0,151.0,100.0,107.0,147.0,200.0,101.0,120.0,181.0,182.0,117.0,145.0,106.0,179.0,134.0,180.0,126.0,110.0,180.0,103.0,116.0,119.0,144.0,133.0,199.0,115.0,150.0,192.0,188.0,109.0,189.0,101.0,159.0,128.0,182.0,111.0,171.0,154.0,134.0,157.0,112.0,203.0,142.0,97.0,187.0,111.0,194.0,176.0,153.0,171.0,142.0,153.0,113.0,183.0,108.0,200.0,99.0,131.0,171.0,200.0,152.0,119.0,196.0,173.0,132.0,185.0,138.0,132.0,110.0,119.0,167.0,188.0,151.0,112.0,166.0,158.0,172.0,127.0,150.0,115.0,151.0,103.0,181.0,141.0,152.0,105.0,162.0,190.0,141.0,122.0,136.0,131.0,157.0,181.0,103.0,127.0,189.0,114.0,125.0,123.0,116.0,172.0,129.0,107.0,117.0,148.0,104.0,121.0,148.0,141.0,128.0,113.0,155.0,189.0,108.0,98.0,100.0,134.0,125.0,151.0,100.0,107.0,147.0,200.0,101.0,120.0,181.0,182.0,117.0,145.0,106.0,134.0,199.0,115.0,149.0,192.0,188.0,107.0,190.0,98.0,158.0,128.0,180.0,110.0,172.0,157.0,137.0,158.0,110.0],\"y\":[118.27201684382715,134.63163234090115,134.63163234090115,166.09243137373576,153.50811176060193,239.08148512991207,133.37320037958776,172.3845911803027,230.27246140071838,223.98030159415146,120.78888076645393,226.4971655167782,110.72142507594685,186.2273427547499,147.215951954035,213.91284590364438,127.08104057302086,201.32852629051052,181.19361490949638,157.28340764454208,182.45204687080977,124.56417665039407,240.33991709122546,166.09243137373576,109.46299311463346,220.2050057102113,125.82260861170747,229.014029439405,208.87911805839084,177.41831902555623,202.58695825182392,163.575567451109,179.93518294818298,127.08104057302086,213.91284590364438,123.30574468908068,235.30618924597192,110.72142507594685,152.24967979928854,198.81166236788377,237.82305316859868,176.15988706424284,137.14849626352793,232.78932532334514,203.8453902131373,153.50811176060193,220.2050057102113,158.54183960585547,150.99124783797515,122.04731272776732,134.63163234090115,198.81166236788377,220.2050057102113,177.41831902555623,128.33947253433422,196.294798445257,187.4857747160633,203.8453902131373,145.95751999272161,172.3845911803027,132.1147684182744,178.67675098686962,115.75515292120039,170.06907637148606,164.83399941242237,178.67675098686962,117.01358488251377,187.4857747160633,225.23873355546485,162.31713548979562,142.18222410878147,156.0249756832287,153.50811176060193,186.2273427547499,216.42970982627114,115.75515292120039,143.44065607009483,222.72186963283806,132.1147684182744,144.69908803140822,139.6653601861547,132.1147684182744,201.32852629051052,148.47438391534837,118.27201684382715,135.89006430221454,171.1261592189893,166.09243137373576,145.95751999272161,125.82260861170747,183.71047883212316,222.72186963283806,123.30574468908068,111.97985703726023,110.72142507594685,152.24967979928854,145.95751999272161,177.41831902555623,111.97985703726023,118.27201684382715,173.64302314161608,170.06907637148606,115.75515292120039,138.4069282248413,215.17127786495777,215.17127786495777,132.1147684182744,168.60929529636255,117.01358488251377,208.87911805839084,154.7665437219153,215.17127786495777,143.44065607009483,122.04731272776732,211.3959819810176,119.53044880514054,140.92379214746808,138.4069282248413,169.8677272576759,158.54183960585547,245.373644936479,135.89006430221454,178.67675098686962,231.53089336203178,225.23873355546485,124.56417665039407,231.53089336203178,111.97985703726023,187.4857747160633,150.99124783797515,220.2050057102113,130.856336456961,207.62068609707745,186.2273427547499,162.31713548979562,186.2273427547499,130.856336456961,245.373644936479,167.35086333504916,111.97985703726023,223.98030159415146,132.1147684182744,235.30618924597192,210.13755001970424,183.71047883212316,207.62068609707745,170.06907637148606,181.19361490949638,133.37320037958776,217.68814178758453,129.5979044956476,241.59834905253885,115.75515292120039,158.54183960585547,200.07009432919716,239.08148512991207,179.93518294818298,142.18222410878147,236.5646212072853,205.1038221744507,159.80027156716883,223.98030159415146,163.575567451109,157.28340764454208,124.56417665039407,140.92379214746808,201.32852629051052,221.46343767152467,183.71047883212316,134.63163234090115,201.32852629051052,192.51950256131684,205.1038221744507,152.24967979928854,178.67675098686962,138.4069282248413,183.71047883212316,119.53044880514054,216.42970982627114,167.35086333504916,181.19361490949638,120.78888076645393,190.00263863869006,230.27246140071838,168.60929529636255,144.69908803140822,159.80027156716883,156.0249756832287,188.7442066773767,217.68814178758453,122.04731272776732,148.47438391534837,223.98030159415146,135.89006430221454,145.95751999272161,170.06907637148606,134.63163234090115,207.62068609707745,150.99124783797515,119.53044880514054,140.92379214746808,173.64302314161608,172.3845911803027,147.215951954035,127.08104057302086,186.2273427547499,225.23873355546485,128.33947253433422,115.75515292120039,111.97985703726023,157.28340764454208,150.99124783797515,183.71047883212316,115.75515292120039,120.78888076645393,170.06907637148606,245.373644936479,120.78888076645393,139.6653601861547,217.68814178758453,216.42970982627114,135.89006430221454,171.1261592189893,118.27201684382715,211.3959819810176,159.80027156716883,221.46343767152467,145.95751999272161,128.33947253433422,216.42970982627114,119.53044880514054,137.14849626352793,140.92379214746808,172.3845911803027,157.28340764454208,242.8567810138522,137.14849626352793,173.64302314161608,235.30618924597192,226.4971655167782,125.82260861170747,230.27246140071838,115.75515292120039,188.7442066773767,149.73281587666176,217.68814178758453,132.1147684182744,205.1038221744507,182.45204687080977,162.31713548979562,183.71047883212316,130.856336456961,242.8567810138522,167.35086333504916,115.75515292120039,222.72186963283806,129.5979044956476,230.27246140071838,211.3959819810176,178.67675098686962,205.1038221744507,166.09243137373576,182.45204687080977,129.5979044956476,216.42970982627114,124.56417665039407,237.82305316859868,117.01358488251377,156.0249756832287,201.32852629051052,241.59834905253885,178.67675098686962,139.6653601861547,237.82305316859868,206.36225413576406,158.54183960585547,222.72186963283806,159.80027156716883,156.0249756832287,127.08104057302086,135.89006430221454,203.8453902131373,225.23873355546485,183.71047883212316,129.5979044956476,202.58695825182392,192.51950256131684,208.87911805839084,147.215951954035,176.15988706424284,137.14849626352793,183.71047883212316,120.78888076645393,220.2050057102113,168.60929529636255,184.96891079343652,122.04731272776732,191.26107060000345,230.27246140071838,166.09243137373576,144.69908803140822,161.05870352848223,156.0249756832287,188.7442066773767,218.94657374889792,120.78888076645393,148.47438391534837,226.4971655167782,138.4069282248413,149.73281587666176,144.69908803140822,138.4069282248413,202.58695825182392,150.99124783797515,123.30574468908068,139.6653601861547,174.90145510292945,167.35086333504916,147.215951954035,127.08104057302086,188.7442066773767,229.014029439405,128.33947253433422,114.496720959887,113.23828899857362,158.54183960585547,152.24967979928854,183.71047883212316,115.75515292120039,124.56417665039407,177.41831902555623,245.373644936479,117.01358488251377,139.6653601861547,218.94657374889792,217.68814178758453,134.63163234090115,172.3845911803027,118.27201684382715,211.3959819810176,158.54183960585547,220.2050057102113,144.69908803140822,125.82260861170747,212.654413942331,120.78888076645393,137.14849626352793,137.14849626352793,172.3845911803027,158.54183960585547,240.33991709122546,134.63163234090115,177.41831902555623,231.53089336203178,226.4971655167782,124.56417665039407,229.014029439405,113.23828899857362,188.7442066773767,150.99124783797515,216.42970982627114,128.33947253433422,206.36225413576406,187.4857747160633,162.31713548979562,188.7442066773767,128.33947253433422,245.373644936479,172.3845911803027,110.72142507594685,223.98030159415146,128.33947253433422,234.04775728465853,212.654413942331,181.19361490949638,206.36225413576406,166.09243137373576,183.71047883212316,132.1147684182744,215.17127786495777,129.5979044956476,236.5646212072853,117.01358488251377,154.7665437219153,205.1038221744507,240.33991709122546,179.93518294818298,142.18222410878147,236.5646212072853,208.87911805839084,159.80027156716883,221.46343767152467,162.31713548979562,152.24967979928854,125.82260861170747,135.89006430221454,201.32852629051052,221.46343767152467,179.93518294818298,133.37320037958776,200.07009432919716,191.26107060000345,210.13755001970424,149.73281587666176,173.64302314161608,138.4069282248413,179.93518294818298,122.04731272776732,216.42970982627114,166.09243137373576,184.96891079343652,123.30574468908068,191.26107060000345,231.53089336203178,163.575567451109,143.44065607009483,159.80027156716883,156.0249756832287,188.7442066773767,221.46343767152467,117.01358488251377,148.47438391534837,226.4971655167782,138.4069282248413,149.73281587666176,144.69908803140822,137.14849626352793,206.36225413576406,149.73281587666176,120.78888076645393,142.18222410878147,176.15988706424284,167.35086333504916,150.99124783797515,132.1147684182744,184.96891079343652,227.7555974780916,125.82260861170747,113.23828899857362,115.75515292120039,158.54183960585547,147.215951954035,179.93518294818298,115.75515292120039,124.56417665039407,174.90145510292945,241.59834905253885,117.01358488251377,140.92379214746808,217.68814178758453,218.94657374889792,137.14849626352793,172.3845911803027,123.30574468908068,215.17127786495777,158.54183960585547,216.42970982627114,148.47438391534837,128.33947253433422,216.42970982627114,119.53044880514054,135.89006430221454,139.6653601861547,171.1261592189893,157.28340764454208,240.33991709122546,134.63163234090115,178.67675098686962,231.53089336203178,226.4971655167782,127.08104057302086,227.7555974780916,117.01358488251377,190.00263863869006,150.99124783797515,218.94657374889792,129.5979044956476,205.1038221744507,183.71047883212316,158.54183960585547,187.4857747160633,130.856336456961,245.373644936479,168.60929529636255,111.97985703726023,225.23873355546485,129.5979044956476,234.04775728465853,211.3959819810176,182.45204687080977,205.1038221744507,168.60929529636255,182.45204687080977,132.1147684182744,220.2050057102113,125.82260861170747,241.59834905253885,114.496720959887,154.7665437219153,205.1038221744507,241.59834905253885,181.19361490949638,139.6653601861547,236.5646212072853,207.62068609707745,156.0249756832287,222.72186963283806,163.575567451109,156.0249756832287,128.33947253433422,139.6653601861547,200.07009432919716,226.4971655167782,179.93518294818298,130.856336456961,198.81166236788377,188.7442066773767,206.36225413576406,149.73281587666176,178.67675098686962,134.63163234090115,179.93518294818298,119.53044880514054,217.68814178758453,167.35086333504916,181.19361490949638,122.04731272776732,193.77793452263023,229.014029439405,167.35086333504916,143.44065607009483,161.05870352848223,154.7665437219153,187.4857747160633,217.68814178758453,119.53044880514054,149.73281587666176,227.7555974780916,133.37320037958776,147.215951954035,144.69908803140822,135.89006430221454,206.36225413576406,152.24967979928854,124.56417665039407,137.14849626352793,176.15988706424284,120.78888076645393,142.18222410878147,176.15988706424284,167.35086333504916,150.99124783797515,132.1147684182744,184.96891079343652,227.7555974780916,125.82260861170747,113.23828899857362,115.75515292120039,158.54183960585547,147.215951954035,179.93518294818298,115.75515292120039,124.56417665039407,174.90145510292945,241.59834905253885,117.01358488251377,140.92379214746808,217.68814178758453,218.94657374889792,137.14849626352793,172.3845911803027,123.30574468908068,158.54183960585547,240.33991709122546,134.63163234090115,177.41831902555623,231.53089336203178,226.4971655167782,124.56417665039407,229.014029439405,113.23828899857362,188.7442066773767,150.99124783797515,216.42970982627114,128.33947253433422,206.36225413576406,187.4857747160633,162.31713548979562,188.7442066773767,128.33947253433422],\"type\":\"scatter\"}],                        {\"template\":{\"data\":{\"histogram2dcontour\":[{\"type\":\"histogram2dcontour\",\"colorbar\":{\"outlinewidth\":0,\"ticks\":\"\"},\"colorscale\":[[0.0,\"#0d0887\"],[0.1111111111111111,\"#46039f\"],[0.2222222222222222,\"#7201a8\"],[0.3333333333333333,\"#9c179e\"],[0.4444444444444444,\"#bd3786\"],[0.5555555555555556,\"#d8576b\"],[0.6666666666666666,\"#ed7953\"],[0.7777777777777778,\"#fb9f3a\"],[0.8888888888888888,\"#fdca26\"],[1.0,\"#f0f921\"]]}],\"choropleth\":[{\"type\":\"choropleth\",\"colorbar\":{\"outlinewidth\":0,\"ticks\":\"\"}}],\"histogram2d\":[{\"type\":\"histogram2d\",\"colorbar\":{\"outlinewidth\":0,\"ticks\":\"\"},\"colorscale\":[[0.0,\"#0d0887\"],[0.1111111111111111,\"#46039f\"],[0.2222222222222222,\"#7201a8\"],[0.3333333333333333,\"#9c179e\"],[0.4444444444444444,\"#bd3786\"],[0.5555555555555556,\"#d8576b\"],[0.6666666666666666,\"#ed7953\"],[0.7777777777777778,\"#fb9f3a\"],[0.8888888888888888,\"#fdca26\"],[1.0,\"#f0f921\"]]}],\"heatmap\":[{\"type\":\"heatmap\",\"colorbar\":{\"outlinewidth\":0,\"ticks\":\"\"},\"colorscale\":[[0.0,\"#0d0887\"],[0.1111111111111111,\"#46039f\"],[0.2222222222222222,\"#7201a8\"],[0.3333333333333333,\"#9c179e\"],[0.4444444444444444,\"#bd3786\"],[0.5555555555555556,\"#d8576b\"],[0.6666666666666666,\"#ed7953\"],[0.7777777777777778,\"#fb9f3a\"],[0.8888888888888888,\"#fdca26\"],[1.0,\"#f0f921\"]]}],\"heatmapgl\":[{\"type\":\"heatmapgl\",\"colorbar\":{\"outlinewidth\":0,\"ticks\":\"\"},\"colorscale\":[[0.0,\"#0d0887\"],[0.1111111111111111,\"#46039f\"],[0.2222222222222222,\"#7201a8\"],[0.3333333333333333,\"#9c179e\"],[0.4444444444444444,\"#bd3786\"],[0.5555555555555556,\"#d8576b\"],[0.6666666666666666,\"#ed7953\"],[0.7777777777777778,\"#fb9f3a\"],[0.8888888888888888,\"#fdca26\"],[1.0,\"#f0f921\"]]}],\"contourcarpet\":[{\"type\":\"contourcarpet\",\"colorbar\":{\"outlinewidth\":0,\"ticks\":\"\"}}],\"contour\":[{\"type\":\"contour\",\"colorbar\":{\"outlinewidth\":0,\"ticks\":\"\"},\"colorscale\":[[0.0,\"#0d0887\"],[0.1111111111111111,\"#46039f\"],[0.2222222222222222,\"#7201a8\"],[0.3333333333333333,\"#9c179e\"],[0.4444444444444444,\"#bd3786\"],[0.5555555555555556,\"#d8576b\"],[0.6666666666666666,\"#ed7953\"],[0.7777777777777778,\"#fb9f3a\"],[0.8888888888888888,\"#fdca26\"],[1.0,\"#f0f921\"]]}],\"surface\":[{\"type\":\"surface\",\"colorbar\":{\"outlinewidth\":0,\"ticks\":\"\"},\"colorscale\":[[0.0,\"#0d0887\"],[0.1111111111111111,\"#46039f\"],[0.2222222222222222,\"#7201a8\"],[0.3333333333333333,\"#9c179e\"],[0.4444444444444444,\"#bd3786\"],[0.5555555555555556,\"#d8576b\"],[0.6666666666666666,\"#ed7953\"],[0.7777777777777778,\"#fb9f3a\"],[0.8888888888888888,\"#fdca26\"],[1.0,\"#f0f921\"]]}],\"mesh3d\":[{\"type\":\"mesh3d\",\"colorbar\":{\"outlinewidth\":0,\"ticks\":\"\"}}],\"scatter\":[{\"fillpattern\":{\"fillmode\":\"overlay\",\"size\":10,\"solidity\":0.2},\"type\":\"scatter\"}],\"parcoords\":[{\"type\":\"parcoords\",\"line\":{\"colorbar\":{\"outlinewidth\":0,\"ticks\":\"\"}}}],\"scatterpolargl\":[{\"type\":\"scatterpolargl\",\"marker\":{\"colorbar\":{\"outlinewidth\":0,\"ticks\":\"\"}}}],\"bar\":[{\"error_x\":{\"color\":\"#2a3f5f\"},\"error_y\":{\"color\":\"#2a3f5f\"},\"marker\":{\"line\":{\"color\":\"#E5ECF6\",\"width\":0.5},\"pattern\":{\"fillmode\":\"overlay\",\"size\":10,\"solidity\":0.2}},\"type\":\"bar\"}],\"scattergeo\":[{\"type\":\"scattergeo\",\"marker\":{\"colorbar\":{\"outlinewidth\":0,\"ticks\":\"\"}}}],\"scatterpolar\":[{\"type\":\"scatterpolar\",\"marker\":{\"colorbar\":{\"outlinewidth\":0,\"ticks\":\"\"}}}],\"histogram\":[{\"marker\":{\"pattern\":{\"fillmode\":\"overlay\",\"size\":10,\"solidity\":0.2}},\"type\":\"histogram\"}],\"scattergl\":[{\"type\":\"scattergl\",\"marker\":{\"colorbar\":{\"outlinewidth\":0,\"ticks\":\"\"}}}],\"scatter3d\":[{\"type\":\"scatter3d\",\"line\":{\"colorbar\":{\"outlinewidth\":0,\"ticks\":\"\"}},\"marker\":{\"colorbar\":{\"outlinewidth\":0,\"ticks\":\"\"}}}],\"scattermapbox\":[{\"type\":\"scattermapbox\",\"marker\":{\"colorbar\":{\"outlinewidth\":0,\"ticks\":\"\"}}}],\"scatterternary\":[{\"type\":\"scatterternary\",\"marker\":{\"colorbar\":{\"outlinewidth\":0,\"ticks\":\"\"}}}],\"scattercarpet\":[{\"type\":\"scattercarpet\",\"marker\":{\"colorbar\":{\"outlinewidth\":0,\"ticks\":\"\"}}}],\"carpet\":[{\"aaxis\":{\"endlinecolor\":\"#2a3f5f\",\"gridcolor\":\"white\",\"linecolor\":\"white\",\"minorgridcolor\":\"white\",\"startlinecolor\":\"#2a3f5f\"},\"baxis\":{\"endlinecolor\":\"#2a3f5f\",\"gridcolor\":\"white\",\"linecolor\":\"white\",\"minorgridcolor\":\"white\",\"startlinecolor\":\"#2a3f5f\"},\"type\":\"carpet\"}],\"table\":[{\"cells\":{\"fill\":{\"color\":\"#EBF0F8\"},\"line\":{\"color\":\"white\"}},\"header\":{\"fill\":{\"color\":\"#C8D4E3\"},\"line\":{\"color\":\"white\"}},\"type\":\"table\"}],\"barpolar\":[{\"marker\":{\"line\":{\"color\":\"#E5ECF6\",\"width\":0.5},\"pattern\":{\"fillmode\":\"overlay\",\"size\":10,\"solidity\":0.2}},\"type\":\"barpolar\"}],\"pie\":[{\"automargin\":true,\"type\":\"pie\"}]},\"layout\":{\"autotypenumbers\":\"strict\",\"colorway\":[\"#636efa\",\"#EF553B\",\"#00cc96\",\"#ab63fa\",\"#FFA15A\",\"#19d3f3\",\"#FF6692\",\"#B6E880\",\"#FF97FF\",\"#FECB52\"],\"font\":{\"color\":\"#2a3f5f\"},\"hovermode\":\"closest\",\"hoverlabel\":{\"align\":\"left\"},\"paper_bgcolor\":\"white\",\"plot_bgcolor\":\"#E5ECF6\",\"polar\":{\"bgcolor\":\"#E5ECF6\",\"angularaxis\":{\"gridcolor\":\"white\",\"linecolor\":\"white\",\"ticks\":\"\"},\"radialaxis\":{\"gridcolor\":\"white\",\"linecolor\":\"white\",\"ticks\":\"\"}},\"ternary\":{\"bgcolor\":\"#E5ECF6\",\"aaxis\":{\"gridcolor\":\"white\",\"linecolor\":\"white\",\"ticks\":\"\"},\"baxis\":{\"gridcolor\":\"white\",\"linecolor\":\"white\",\"ticks\":\"\"},\"caxis\":{\"gridcolor\":\"white\",\"linecolor\":\"white\",\"ticks\":\"\"}},\"coloraxis\":{\"colorbar\":{\"outlinewidth\":0,\"ticks\":\"\"}},\"colorscale\":{\"sequential\":[[0.0,\"#0d0887\"],[0.1111111111111111,\"#46039f\"],[0.2222222222222222,\"#7201a8\"],[0.3333333333333333,\"#9c179e\"],[0.4444444444444444,\"#bd3786\"],[0.5555555555555556,\"#d8576b\"],[0.6666666666666666,\"#ed7953\"],[0.7777777777777778,\"#fb9f3a\"],[0.8888888888888888,\"#fdca26\"],[1.0,\"#f0f921\"]],\"sequentialminus\":[[0.0,\"#0d0887\"],[0.1111111111111111,\"#46039f\"],[0.2222222222222222,\"#7201a8\"],[0.3333333333333333,\"#9c179e\"],[0.4444444444444444,\"#bd3786\"],[0.5555555555555556,\"#d8576b\"],[0.6666666666666666,\"#ed7953\"],[0.7777777777777778,\"#fb9f3a\"],[0.8888888888888888,\"#fdca26\"],[1.0,\"#f0f921\"]],\"diverging\":[[0,\"#8e0152\"],[0.1,\"#c51b7d\"],[0.2,\"#de77ae\"],[0.3,\"#f1b6da\"],[0.4,\"#fde0ef\"],[0.5,\"#f7f7f7\"],[0.6,\"#e6f5d0\"],[0.7,\"#b8e186\"],[0.8,\"#7fbc41\"],[0.9,\"#4d9221\"],[1,\"#276419\"]]},\"xaxis\":{\"gridcolor\":\"white\",\"linecolor\":\"white\",\"ticks\":\"\",\"title\":{\"standoff\":15},\"zerolinecolor\":\"white\",\"automargin\":true,\"zerolinewidth\":2},\"yaxis\":{\"gridcolor\":\"white\",\"linecolor\":\"white\",\"ticks\":\"\",\"title\":{\"standoff\":15},\"zerolinecolor\":\"white\",\"automargin\":true,\"zerolinewidth\":2},\"scene\":{\"xaxis\":{\"backgroundcolor\":\"#E5ECF6\",\"gridcolor\":\"white\",\"linecolor\":\"white\",\"showbackground\":true,\"ticks\":\"\",\"zerolinecolor\":\"white\",\"gridwidth\":2},\"yaxis\":{\"backgroundcolor\":\"#E5ECF6\",\"gridcolor\":\"white\",\"linecolor\":\"white\",\"showbackground\":true,\"ticks\":\"\",\"zerolinecolor\":\"white\",\"gridwidth\":2},\"zaxis\":{\"backgroundcolor\":\"#E5ECF6\",\"gridcolor\":\"white\",\"linecolor\":\"white\",\"showbackground\":true,\"ticks\":\"\",\"zerolinecolor\":\"white\",\"gridwidth\":2}},\"shapedefaults\":{\"line\":{\"color\":\"#2a3f5f\"}},\"annotationdefaults\":{\"arrowcolor\":\"#2a3f5f\",\"arrowhead\":0,\"arrowwidth\":1},\"geo\":{\"bgcolor\":\"white\",\"landcolor\":\"#E5ECF6\",\"subunitcolor\":\"white\",\"showland\":true,\"showlakes\":true,\"lakecolor\":\"white\"},\"title\":{\"x\":0.05},\"mapbox\":{\"style\":\"light\"}}},\"xaxis\":{\"anchor\":\"y\",\"domain\":[0.0,1.0],\"title\":{\"text\":\"x\"}},\"yaxis\":{\"anchor\":\"x\",\"domain\":[0.0,1.0],\"title\":{\"text\":\"y\"}},\"legend\":{\"tracegroupgap\":0},\"margin\":{\"t\":60}},                        {\"responsive\": true}                    ).then(function(){\n",
              "                            \n",
              "var gd = document.getElementById('48a7795b-3972-4690-a147-ac46cb25f0d7');\n",
              "var x = new MutationObserver(function (mutations, observer) {{\n",
              "        var display = window.getComputedStyle(gd).display;\n",
              "        if (!display || display === 'none') {{\n",
              "            console.log([gd, 'removed!']);\n",
              "            Plotly.purge(gd);\n",
              "            observer.disconnect();\n",
              "        }}\n",
              "}});\n",
              "\n",
              "// Listen for the removal of the full notebook cells\n",
              "var notebookContainer = gd.closest('#notebook-container');\n",
              "if (notebookContainer) {{\n",
              "    x.observe(notebookContainer, {childList: true});\n",
              "}}\n",
              "\n",
              "// Listen for the clearing of the current output cell\n",
              "var outputEl = gd.closest('.output');\n",
              "if (outputEl) {{\n",
              "    x.observe(outputEl, {childList: true});\n",
              "}}\n",
              "\n",
              "                        })                };                            </script>        </div>\n",
              "</body>\n",
              "</html>"
            ]
          },
          "metadata": {}
        }
      ]
    },
    {
      "cell_type": "code",
      "source": [
        "prev_colesterol.coef_"
      ],
      "metadata": {
        "colab": {
          "base_uri": "https://localhost:8080/"
        },
        "id": "exyAmpEUlfj6",
        "outputId": "16610c51-33f2-4d35-a298-2676e70c5f6f"
      },
      "execution_count": 49,
      "outputs": [
        {
          "output_type": "execute_result",
          "data": {
            "text/plain": [
              "array([1.25843196])"
            ]
          },
          "metadata": {},
          "execution_count": 49
        }
      ]
    },
    {
      "cell_type": "code",
      "source": [
        "prev_colesterol.intercept_"
      ],
      "metadata": {
        "colab": {
          "base_uri": "https://localhost:8080/"
        },
        "id": "9BzVxXL0lvvW",
        "outputId": "99df7f71-2d59-454f-d51e-6361af5c572f"
      },
      "execution_count": 50,
      "outputs": [
        {
          "output_type": "execute_result",
          "data": {
            "text/plain": [
              "-10.088043210138068"
            ]
          },
          "metadata": {},
          "execution_count": 50
        }
      ]
    },
    {
      "cell_type": "code",
      "source": [
        "df_fem = df[df['genero'] == 'Feminino']"
      ],
      "metadata": {
        "id": "h-CpED9wrZYR",
        "outputId": "ad0d2e1c-61bb-4e62-d6fb-0395ecc7082b",
        "colab": {
          "base_uri": "https://localhost:8080/",
          "height": 423
        }
      },
      "execution_count": 63,
      "outputs": [
        {
          "output_type": "execute_result",
          "data": {
            "text/plain": [
              "     id_cliente   peso  colesterol     genero\n",
              "0             1  102.0         111  Masculino\n",
              "1             2  115.0         135  Masculino\n",
              "2             3  115.0         136  Masculino\n",
              "3             4  140.0         167   Feminino\n",
              "4             5  130.0         158  Masculino\n",
              "..          ...    ...         ...        ...\n",
              "585         363  172.0         211  Masculino\n",
              "586         364  157.0         194   Feminino\n",
              "587         365  137.0         169   Feminino\n",
              "588         366  158.0         189   Feminino\n",
              "589         367  110.0         128   Feminino\n",
              "\n",
              "[590 rows x 4 columns]"
            ],
            "text/html": [
              "\n",
              "  <div id=\"df-06b07643-2919-44c3-a13a-63b1a7308828\" class=\"colab-df-container\">\n",
              "    <div>\n",
              "<style scoped>\n",
              "    .dataframe tbody tr th:only-of-type {\n",
              "        vertical-align: middle;\n",
              "    }\n",
              "\n",
              "    .dataframe tbody tr th {\n",
              "        vertical-align: top;\n",
              "    }\n",
              "\n",
              "    .dataframe thead th {\n",
              "        text-align: right;\n",
              "    }\n",
              "</style>\n",
              "<table border=\"1\" class=\"dataframe\">\n",
              "  <thead>\n",
              "    <tr style=\"text-align: right;\">\n",
              "      <th></th>\n",
              "      <th>id_cliente</th>\n",
              "      <th>peso</th>\n",
              "      <th>colesterol</th>\n",
              "      <th>genero</th>\n",
              "    </tr>\n",
              "  </thead>\n",
              "  <tbody>\n",
              "    <tr>\n",
              "      <th>0</th>\n",
              "      <td>1</td>\n",
              "      <td>102.0</td>\n",
              "      <td>111</td>\n",
              "      <td>Masculino</td>\n",
              "    </tr>\n",
              "    <tr>\n",
              "      <th>1</th>\n",
              "      <td>2</td>\n",
              "      <td>115.0</td>\n",
              "      <td>135</td>\n",
              "      <td>Masculino</td>\n",
              "    </tr>\n",
              "    <tr>\n",
              "      <th>2</th>\n",
              "      <td>3</td>\n",
              "      <td>115.0</td>\n",
              "      <td>136</td>\n",
              "      <td>Masculino</td>\n",
              "    </tr>\n",
              "    <tr>\n",
              "      <th>3</th>\n",
              "      <td>4</td>\n",
              "      <td>140.0</td>\n",
              "      <td>167</td>\n",
              "      <td>Feminino</td>\n",
              "    </tr>\n",
              "    <tr>\n",
              "      <th>4</th>\n",
              "      <td>5</td>\n",
              "      <td>130.0</td>\n",
              "      <td>158</td>\n",
              "      <td>Masculino</td>\n",
              "    </tr>\n",
              "    <tr>\n",
              "      <th>...</th>\n",
              "      <td>...</td>\n",
              "      <td>...</td>\n",
              "      <td>...</td>\n",
              "      <td>...</td>\n",
              "    </tr>\n",
              "    <tr>\n",
              "      <th>585</th>\n",
              "      <td>363</td>\n",
              "      <td>172.0</td>\n",
              "      <td>211</td>\n",
              "      <td>Masculino</td>\n",
              "    </tr>\n",
              "    <tr>\n",
              "      <th>586</th>\n",
              "      <td>364</td>\n",
              "      <td>157.0</td>\n",
              "      <td>194</td>\n",
              "      <td>Feminino</td>\n",
              "    </tr>\n",
              "    <tr>\n",
              "      <th>587</th>\n",
              "      <td>365</td>\n",
              "      <td>137.0</td>\n",
              "      <td>169</td>\n",
              "      <td>Feminino</td>\n",
              "    </tr>\n",
              "    <tr>\n",
              "      <th>588</th>\n",
              "      <td>366</td>\n",
              "      <td>158.0</td>\n",
              "      <td>189</td>\n",
              "      <td>Feminino</td>\n",
              "    </tr>\n",
              "    <tr>\n",
              "      <th>589</th>\n",
              "      <td>367</td>\n",
              "      <td>110.0</td>\n",
              "      <td>128</td>\n",
              "      <td>Feminino</td>\n",
              "    </tr>\n",
              "  </tbody>\n",
              "</table>\n",
              "<p>590 rows × 4 columns</p>\n",
              "</div>\n",
              "    <div class=\"colab-df-buttons\">\n",
              "\n",
              "  <div class=\"colab-df-container\">\n",
              "    <button class=\"colab-df-convert\" onclick=\"convertToInteractive('df-06b07643-2919-44c3-a13a-63b1a7308828')\"\n",
              "            title=\"Convert this dataframe to an interactive table.\"\n",
              "            style=\"display:none;\">\n",
              "\n",
              "  <svg xmlns=\"http://www.w3.org/2000/svg\" height=\"24px\" viewBox=\"0 -960 960 960\">\n",
              "    <path d=\"M120-120v-720h720v720H120Zm60-500h600v-160H180v160Zm220 220h160v-160H400v160Zm0 220h160v-160H400v160ZM180-400h160v-160H180v160Zm440 0h160v-160H620v160ZM180-180h160v-160H180v160Zm440 0h160v-160H620v160Z\"/>\n",
              "  </svg>\n",
              "    </button>\n",
              "\n",
              "  <style>\n",
              "    .colab-df-container {\n",
              "      display:flex;\n",
              "      gap: 12px;\n",
              "    }\n",
              "\n",
              "    .colab-df-convert {\n",
              "      background-color: #E8F0FE;\n",
              "      border: none;\n",
              "      border-radius: 50%;\n",
              "      cursor: pointer;\n",
              "      display: none;\n",
              "      fill: #1967D2;\n",
              "      height: 32px;\n",
              "      padding: 0 0 0 0;\n",
              "      width: 32px;\n",
              "    }\n",
              "\n",
              "    .colab-df-convert:hover {\n",
              "      background-color: #E2EBFA;\n",
              "      box-shadow: 0px 1px 2px rgba(60, 64, 67, 0.3), 0px 1px 3px 1px rgba(60, 64, 67, 0.15);\n",
              "      fill: #174EA6;\n",
              "    }\n",
              "\n",
              "    .colab-df-buttons div {\n",
              "      margin-bottom: 4px;\n",
              "    }\n",
              "\n",
              "    [theme=dark] .colab-df-convert {\n",
              "      background-color: #3B4455;\n",
              "      fill: #D2E3FC;\n",
              "    }\n",
              "\n",
              "    [theme=dark] .colab-df-convert:hover {\n",
              "      background-color: #434B5C;\n",
              "      box-shadow: 0px 1px 3px 1px rgba(0, 0, 0, 0.15);\n",
              "      filter: drop-shadow(0px 1px 2px rgba(0, 0, 0, 0.3));\n",
              "      fill: #FFFFFF;\n",
              "    }\n",
              "  </style>\n",
              "\n",
              "    <script>\n",
              "      const buttonEl =\n",
              "        document.querySelector('#df-06b07643-2919-44c3-a13a-63b1a7308828 button.colab-df-convert');\n",
              "      buttonEl.style.display =\n",
              "        google.colab.kernel.accessAllowed ? 'block' : 'none';\n",
              "\n",
              "      async function convertToInteractive(key) {\n",
              "        const element = document.querySelector('#df-06b07643-2919-44c3-a13a-63b1a7308828');\n",
              "        const dataTable =\n",
              "          await google.colab.kernel.invokeFunction('convertToInteractive',\n",
              "                                                    [key], {});\n",
              "        if (!dataTable) return;\n",
              "\n",
              "        const docLinkHtml = 'Like what you see? Visit the ' +\n",
              "          '<a target=\"_blank\" href=https://colab.research.google.com/notebooks/data_table.ipynb>data table notebook</a>'\n",
              "          + ' to learn more about interactive tables.';\n",
              "        element.innerHTML = '';\n",
              "        dataTable['output_type'] = 'display_data';\n",
              "        await google.colab.output.renderOutput(dataTable, element);\n",
              "        const docLink = document.createElement('div');\n",
              "        docLink.innerHTML = docLinkHtml;\n",
              "        element.appendChild(docLink);\n",
              "      }\n",
              "    </script>\n",
              "  </div>\n",
              "\n",
              "\n",
              "<div id=\"df-00a39020-e6c7-49bf-a174-28031db4361e\">\n",
              "  <button class=\"colab-df-quickchart\" onclick=\"quickchart('df-00a39020-e6c7-49bf-a174-28031db4361e')\"\n",
              "            title=\"Suggest charts\"\n",
              "            style=\"display:none;\">\n",
              "\n",
              "<svg xmlns=\"http://www.w3.org/2000/svg\" height=\"24px\"viewBox=\"0 0 24 24\"\n",
              "     width=\"24px\">\n",
              "    <g>\n",
              "        <path d=\"M19 3H5c-1.1 0-2 .9-2 2v14c0 1.1.9 2 2 2h14c1.1 0 2-.9 2-2V5c0-1.1-.9-2-2-2zM9 17H7v-7h2v7zm4 0h-2V7h2v10zm4 0h-2v-4h2v4z\"/>\n",
              "    </g>\n",
              "</svg>\n",
              "  </button>\n",
              "\n",
              "<style>\n",
              "  .colab-df-quickchart {\n",
              "      --bg-color: #E8F0FE;\n",
              "      --fill-color: #1967D2;\n",
              "      --hover-bg-color: #E2EBFA;\n",
              "      --hover-fill-color: #174EA6;\n",
              "      --disabled-fill-color: #AAA;\n",
              "      --disabled-bg-color: #DDD;\n",
              "  }\n",
              "\n",
              "  [theme=dark] .colab-df-quickchart {\n",
              "      --bg-color: #3B4455;\n",
              "      --fill-color: #D2E3FC;\n",
              "      --hover-bg-color: #434B5C;\n",
              "      --hover-fill-color: #FFFFFF;\n",
              "      --disabled-bg-color: #3B4455;\n",
              "      --disabled-fill-color: #666;\n",
              "  }\n",
              "\n",
              "  .colab-df-quickchart {\n",
              "    background-color: var(--bg-color);\n",
              "    border: none;\n",
              "    border-radius: 50%;\n",
              "    cursor: pointer;\n",
              "    display: none;\n",
              "    fill: var(--fill-color);\n",
              "    height: 32px;\n",
              "    padding: 0;\n",
              "    width: 32px;\n",
              "  }\n",
              "\n",
              "  .colab-df-quickchart:hover {\n",
              "    background-color: var(--hover-bg-color);\n",
              "    box-shadow: 0 1px 2px rgba(60, 64, 67, 0.3), 0 1px 3px 1px rgba(60, 64, 67, 0.15);\n",
              "    fill: var(--button-hover-fill-color);\n",
              "  }\n",
              "\n",
              "  .colab-df-quickchart-complete:disabled,\n",
              "  .colab-df-quickchart-complete:disabled:hover {\n",
              "    background-color: var(--disabled-bg-color);\n",
              "    fill: var(--disabled-fill-color);\n",
              "    box-shadow: none;\n",
              "  }\n",
              "\n",
              "  .colab-df-spinner {\n",
              "    border: 2px solid var(--fill-color);\n",
              "    border-color: transparent;\n",
              "    border-bottom-color: var(--fill-color);\n",
              "    animation:\n",
              "      spin 1s steps(1) infinite;\n",
              "  }\n",
              "\n",
              "  @keyframes spin {\n",
              "    0% {\n",
              "      border-color: transparent;\n",
              "      border-bottom-color: var(--fill-color);\n",
              "      border-left-color: var(--fill-color);\n",
              "    }\n",
              "    20% {\n",
              "      border-color: transparent;\n",
              "      border-left-color: var(--fill-color);\n",
              "      border-top-color: var(--fill-color);\n",
              "    }\n",
              "    30% {\n",
              "      border-color: transparent;\n",
              "      border-left-color: var(--fill-color);\n",
              "      border-top-color: var(--fill-color);\n",
              "      border-right-color: var(--fill-color);\n",
              "    }\n",
              "    40% {\n",
              "      border-color: transparent;\n",
              "      border-right-color: var(--fill-color);\n",
              "      border-top-color: var(--fill-color);\n",
              "    }\n",
              "    60% {\n",
              "      border-color: transparent;\n",
              "      border-right-color: var(--fill-color);\n",
              "    }\n",
              "    80% {\n",
              "      border-color: transparent;\n",
              "      border-right-color: var(--fill-color);\n",
              "      border-bottom-color: var(--fill-color);\n",
              "    }\n",
              "    90% {\n",
              "      border-color: transparent;\n",
              "      border-bottom-color: var(--fill-color);\n",
              "    }\n",
              "  }\n",
              "</style>\n",
              "\n",
              "  <script>\n",
              "    async function quickchart(key) {\n",
              "      const quickchartButtonEl =\n",
              "        document.querySelector('#' + key + ' button');\n",
              "      quickchartButtonEl.disabled = true;  // To prevent multiple clicks.\n",
              "      quickchartButtonEl.classList.add('colab-df-spinner');\n",
              "      try {\n",
              "        const charts = await google.colab.kernel.invokeFunction(\n",
              "            'suggestCharts', [key], {});\n",
              "      } catch (error) {\n",
              "        console.error('Error during call to suggestCharts:', error);\n",
              "      }\n",
              "      quickchartButtonEl.classList.remove('colab-df-spinner');\n",
              "      quickchartButtonEl.classList.add('colab-df-quickchart-complete');\n",
              "    }\n",
              "    (() => {\n",
              "      let quickchartButtonEl =\n",
              "        document.querySelector('#df-00a39020-e6c7-49bf-a174-28031db4361e button');\n",
              "      quickchartButtonEl.style.display =\n",
              "        google.colab.kernel.accessAllowed ? 'block' : 'none';\n",
              "    })();\n",
              "  </script>\n",
              "</div>\n",
              "\n",
              "  <div id=\"id_846d4ef5-2b4c-41f6-b4a1-197ba44bc547\">\n",
              "    <style>\n",
              "      .colab-df-generate {\n",
              "        background-color: #E8F0FE;\n",
              "        border: none;\n",
              "        border-radius: 50%;\n",
              "        cursor: pointer;\n",
              "        display: none;\n",
              "        fill: #1967D2;\n",
              "        height: 32px;\n",
              "        padding: 0 0 0 0;\n",
              "        width: 32px;\n",
              "      }\n",
              "\n",
              "      .colab-df-generate:hover {\n",
              "        background-color: #E2EBFA;\n",
              "        box-shadow: 0px 1px 2px rgba(60, 64, 67, 0.3), 0px 1px 3px 1px rgba(60, 64, 67, 0.15);\n",
              "        fill: #174EA6;\n",
              "      }\n",
              "\n",
              "      [theme=dark] .colab-df-generate {\n",
              "        background-color: #3B4455;\n",
              "        fill: #D2E3FC;\n",
              "      }\n",
              "\n",
              "      [theme=dark] .colab-df-generate:hover {\n",
              "        background-color: #434B5C;\n",
              "        box-shadow: 0px 1px 3px 1px rgba(0, 0, 0, 0.15);\n",
              "        filter: drop-shadow(0px 1px 2px rgba(0, 0, 0, 0.3));\n",
              "        fill: #FFFFFF;\n",
              "      }\n",
              "    </style>\n",
              "    <button class=\"colab-df-generate\" onclick=\"generateWithVariable('df')\"\n",
              "            title=\"Generate code using this dataframe.\"\n",
              "            style=\"display:none;\">\n",
              "\n",
              "  <svg xmlns=\"http://www.w3.org/2000/svg\" height=\"24px\"viewBox=\"0 0 24 24\"\n",
              "       width=\"24px\">\n",
              "    <path d=\"M7,19H8.4L18.45,9,17,7.55,7,17.6ZM5,21V16.75L18.45,3.32a2,2,0,0,1,2.83,0l1.4,1.43a1.91,1.91,0,0,1,.58,1.4,1.91,1.91,0,0,1-.58,1.4L9.25,21ZM18.45,9,17,7.55Zm-12,3A5.31,5.31,0,0,0,4.9,8.1,5.31,5.31,0,0,0,1,6.5,5.31,5.31,0,0,0,4.9,4.9,5.31,5.31,0,0,0,6.5,1,5.31,5.31,0,0,0,8.1,4.9,5.31,5.31,0,0,0,12,6.5,5.46,5.46,0,0,0,6.5,12Z\"/>\n",
              "  </svg>\n",
              "    </button>\n",
              "    <script>\n",
              "      (() => {\n",
              "      const buttonEl =\n",
              "        document.querySelector('#id_846d4ef5-2b4c-41f6-b4a1-197ba44bc547 button.colab-df-generate');\n",
              "      buttonEl.style.display =\n",
              "        google.colab.kernel.accessAllowed ? 'block' : 'none';\n",
              "\n",
              "      buttonEl.onclick = () => {\n",
              "        google.colab.notebook.generateWithVariable('df');\n",
              "      }\n",
              "      })();\n",
              "    </script>\n",
              "  </div>\n",
              "\n",
              "    </div>\n",
              "  </div>\n"
            ],
            "application/vnd.google.colaboratory.intrinsic+json": {
              "type": "dataframe",
              "variable_name": "df",
              "summary": "{\n  \"name\": \"df\",\n  \"rows\": 590,\n  \"fields\": [\n    {\n      \"column\": \"id_cliente\",\n      \"properties\": {\n        \"dtype\": \"number\",\n        \"std\": 156,\n        \"min\": 1,\n        \"max\": 547,\n        \"num_unique_values\": 547,\n        \"samples\": [\n          177,\n          78,\n          362\n        ],\n        \"semantic_type\": \"\",\n        \"description\": \"\"\n      }\n    },\n    {\n      \"column\": \"peso\",\n      \"properties\": {\n        \"dtype\": \"number\",\n        \"std\": 30.793860196298645,\n        \"min\": 95.0,\n        \"max\": 203.0,\n        \"num_unique_values\": 107,\n        \"samples\": [\n          203.0,\n          188.0,\n          198.0\n        ],\n        \"semantic_type\": \"\",\n        \"description\": \"\"\n      }\n    },\n    {\n      \"column\": \"colesterol\",\n      \"properties\": {\n        \"dtype\": \"number\",\n        \"std\": 39,\n        \"min\": 102,\n        \"max\": 235,\n        \"num_unique_values\": 131,\n        \"samples\": [\n          191,\n          138,\n          163\n        ],\n        \"semantic_type\": \"\",\n        \"description\": \"\"\n      }\n    },\n    {\n      \"column\": \"genero\",\n      \"properties\": {\n        \"dtype\": \"category\",\n        \"num_unique_values\": 2,\n        \"samples\": [\n          \"Feminino\",\n          \"Masculino\"\n        ],\n        \"semantic_type\": \"\",\n        \"description\": \"\"\n      }\n    }\n  ]\n}"
            }
          },
          "metadata": {},
          "execution_count": 63
        }
      ]
    },
    {
      "cell_type": "code",
      "source": [
        "Xf = df_fem.iloc[: , 1].values\n",
        "yf = df_fem.iloc[: , 2].values"
      ],
      "metadata": {
        "id": "aOMpcZnHru_k"
      },
      "execution_count": 64,
      "outputs": []
    },
    {
      "cell_type": "code",
      "source": [
        "grafico = px.scatter(x = Xf, y = yf)\n",
        "grafico.show()"
      ],
      "metadata": {
        "id": "rnelbK82rWi5",
        "outputId": "db7e707c-fb25-42b4-fb3d-9c7669b2034a",
        "colab": {
          "base_uri": "https://localhost:8080/",
          "height": 542
        }
      },
      "execution_count": 65,
      "outputs": [
        {
          "output_type": "display_data",
          "data": {
            "text/html": [
              "<html>\n",
              "<head><meta charset=\"utf-8\" /></head>\n",
              "<body>\n",
              "    <div>            <script src=\"https://cdnjs.cloudflare.com/ajax/libs/mathjax/2.7.5/MathJax.js?config=TeX-AMS-MML_SVG\"></script><script type=\"text/javascript\">if (window.MathJax && window.MathJax.Hub && window.MathJax.Hub.Config) {window.MathJax.Hub.Config({SVG: {font: \"STIX-Web\"}});}</script>                <script type=\"text/javascript\">window.PlotlyConfig = {MathJaxConfig: 'local'};</script>\n",
              "        <script charset=\"utf-8\" src=\"https://cdn.plot.ly/plotly-2.24.1.min.js\"></script>                <div id=\"1ac17f85-2ec1-4d4a-97df-f7721a5179ec\" class=\"plotly-graph-div\" style=\"height:525px; width:100%;\"></div>            <script type=\"text/javascript\">                                    window.PLOTLYENV=window.PLOTLYENV || {};                                    if (document.getElementById(\"1ac17f85-2ec1-4d4a-97df-f7721a5179ec\")) {                    Plotly.newPlot(                        \"1ac17f85-2ec1-4d4a-97df-f7721a5179ec\",                        [{\"hovertemplate\":\"x=%{x}\\u003cbr\\u003ey=%{y}\\u003cextra\\u003e\\u003c\\u002fextra\\u003e\",\"legendgroup\":\"\",\"marker\":{\"color\":\"#636efa\",\"symbol\":\"circle\"},\"mode\":\"markers\",\"name\":\"\",\"orientation\":\"v\",\"showlegend\":false,\"x\":[140.0,145.0,191.0,104.0,96.0,156.0,125.0,178.0,109.0,152.0,133.0,153.0,107.0,140.0,183.0,108.0,190.0,178.0,129.0,193.0,130.0,134.0,128.0,105.0,115.0,110.0,164.0,157.0,170.0,113.0,150.0,139.0,187.0,137.0,132.0,156.0,180.0,122.0,185.0,113.0,123.0,119.0,140.0,124.0,108.0,154.0,185.0,96.0,149.0,97.0,143.16,100.0,118.0,113.0,142.0,176.0,143.0,150.0,192.0,107.0,97.0,157.0,128.0,183.0,112.0,156.0,137.0,156.0,112.0,141.0,186.0,113.0,195.0,181.0,134.0,196.0,135.0,138.0,133.0,107.0,120.0,115.0,168.0,161.0,171.0,118.0,154.0,141.0,191.0,142.0,135.0,158.0,181.0,126.0,186.0,116.0,124.0,143.16,145.0,125.0,109.0,156.0,187.0,97.0,154.0,100.0,203.0,104.0,119.0,116.0,144.0,180.0,145.0,146.0,195.0,108.0,100.0,158.0,127.0,181.0,113.0,153.0,137.0,154.0,112.0,141.0,185.0,111.0,191.0,180.0,132.0,197.0,134.0,135.0,132.0,109.0,116.0,111.0,169.0,161.0,174.0,117.0,154.0,142.0,191.0,140.0,136.0,158.0,182.0,126.0,188.0,118.0,127.0,123.0,141.0,125.0,109.0,158.0,190.0,98.0,154.0,100.0,203.0,101.0,119.0,115.0,145.0,177.0,145.0,149.0,192.0,107.0,98.0,158.0,128.0,180.0,110.0,157.0,137.0,158.0,110.0,145.0,186.0,110.0,194.0,179.0,131.0,196.0,135.0,137.0,129.0,108.0,116.0,114.0,167.0,160.0,175.0,118.0,151.0,140.0,192.0,138.0,135.0,158.0,184.0,126.0,188.0,118.0,127.0,123.0,141.0,128.0,113.0,155.0,189.0,100.0,151.0,100.0,200.0,101.0,120.0,117.0,145.0,180.0,144.0,150.0,192.0,109.0,101.0,159.0,128.0,182.0,111.0,154.0,134.0,157.0,112.0,142.0,187.0,111.0,194.0,183.0,131.0,196.0,132.0,138.0,132.0,110.0,119.0,112.0,166.0,158.0,172.0,115.0,151.0,141.0,190.0,141.0,136.0,157.0,181.0,127.0,189.0,114.0,125.0,123.0,141.0,128.0,113.0,155.0,189.0,100.0,151.0,100.0,200.0,101.0,120.0,117.0,145.0,149.0,192.0,107.0,98.0,158.0,128.0,180.0,110.0,157.0,137.0,158.0,110.0],\"xaxis\":\"x\",\"y\":[167,176,223,116,102,192,152,213,125,189,163,189,122,168,218,123,222,213,155,224,158,164,154,118,138,128,197,196,208,129,185,167,221,166,163,191,216,146,220,131,147,141,168,148,123,189,220,105,185,106,230,108,140,130,169,209,168,180,228,117,104,195,156,213,133,195,163,195,124,172,221,128,222,214,162,225,161,168,155,125,144,132,204,201,211,129,185,172,222,168,170,196,224,149,224,136,152,143,173,148,127,194,225,112,191,110,235,108,141,138,169,212,172,181,231,121,102,195,156,214,132,190,167,195,127,171,221,128,226,220,159,224,160,170,161,122,141,129,199,199,214,129,187,170,226,166,170,193,218,152,220,133,152,142,176,150,129,190,226,107,192,110,233,112,146,134,174,217,171,184,225,121,105,197,160,218,131,194,169,189,128,169,219,124,224,217,162,227,163,167,162,125,144,136,199,204,215,133,186,173,226,169,166,198,222,154,226,135,151,146,168,156,124,196,227,110,190,110,232,110,142,138,176,215,171,178,224,116,109,193,155,221,130,190,169,191,122,175,220,126,227,219,159,232,162,171,159,120,143,134,200,201,210,137,190,170,222,174,169,194,217,150,223,133,149,149,168,156,124,196,227,110,190,110,232,110,142,138,176,184,225,121,105,197,160,218,131,194,169,189,128],\"yaxis\":\"y\",\"type\":\"scatter\"}],                        {\"template\":{\"data\":{\"histogram2dcontour\":[{\"type\":\"histogram2dcontour\",\"colorbar\":{\"outlinewidth\":0,\"ticks\":\"\"},\"colorscale\":[[0.0,\"#0d0887\"],[0.1111111111111111,\"#46039f\"],[0.2222222222222222,\"#7201a8\"],[0.3333333333333333,\"#9c179e\"],[0.4444444444444444,\"#bd3786\"],[0.5555555555555556,\"#d8576b\"],[0.6666666666666666,\"#ed7953\"],[0.7777777777777778,\"#fb9f3a\"],[0.8888888888888888,\"#fdca26\"],[1.0,\"#f0f921\"]]}],\"choropleth\":[{\"type\":\"choropleth\",\"colorbar\":{\"outlinewidth\":0,\"ticks\":\"\"}}],\"histogram2d\":[{\"type\":\"histogram2d\",\"colorbar\":{\"outlinewidth\":0,\"ticks\":\"\"},\"colorscale\":[[0.0,\"#0d0887\"],[0.1111111111111111,\"#46039f\"],[0.2222222222222222,\"#7201a8\"],[0.3333333333333333,\"#9c179e\"],[0.4444444444444444,\"#bd3786\"],[0.5555555555555556,\"#d8576b\"],[0.6666666666666666,\"#ed7953\"],[0.7777777777777778,\"#fb9f3a\"],[0.8888888888888888,\"#fdca26\"],[1.0,\"#f0f921\"]]}],\"heatmap\":[{\"type\":\"heatmap\",\"colorbar\":{\"outlinewidth\":0,\"ticks\":\"\"},\"colorscale\":[[0.0,\"#0d0887\"],[0.1111111111111111,\"#46039f\"],[0.2222222222222222,\"#7201a8\"],[0.3333333333333333,\"#9c179e\"],[0.4444444444444444,\"#bd3786\"],[0.5555555555555556,\"#d8576b\"],[0.6666666666666666,\"#ed7953\"],[0.7777777777777778,\"#fb9f3a\"],[0.8888888888888888,\"#fdca26\"],[1.0,\"#f0f921\"]]}],\"heatmapgl\":[{\"type\":\"heatmapgl\",\"colorbar\":{\"outlinewidth\":0,\"ticks\":\"\"},\"colorscale\":[[0.0,\"#0d0887\"],[0.1111111111111111,\"#46039f\"],[0.2222222222222222,\"#7201a8\"],[0.3333333333333333,\"#9c179e\"],[0.4444444444444444,\"#bd3786\"],[0.5555555555555556,\"#d8576b\"],[0.6666666666666666,\"#ed7953\"],[0.7777777777777778,\"#fb9f3a\"],[0.8888888888888888,\"#fdca26\"],[1.0,\"#f0f921\"]]}],\"contourcarpet\":[{\"type\":\"contourcarpet\",\"colorbar\":{\"outlinewidth\":0,\"ticks\":\"\"}}],\"contour\":[{\"type\":\"contour\",\"colorbar\":{\"outlinewidth\":0,\"ticks\":\"\"},\"colorscale\":[[0.0,\"#0d0887\"],[0.1111111111111111,\"#46039f\"],[0.2222222222222222,\"#7201a8\"],[0.3333333333333333,\"#9c179e\"],[0.4444444444444444,\"#bd3786\"],[0.5555555555555556,\"#d8576b\"],[0.6666666666666666,\"#ed7953\"],[0.7777777777777778,\"#fb9f3a\"],[0.8888888888888888,\"#fdca26\"],[1.0,\"#f0f921\"]]}],\"surface\":[{\"type\":\"surface\",\"colorbar\":{\"outlinewidth\":0,\"ticks\":\"\"},\"colorscale\":[[0.0,\"#0d0887\"],[0.1111111111111111,\"#46039f\"],[0.2222222222222222,\"#7201a8\"],[0.3333333333333333,\"#9c179e\"],[0.4444444444444444,\"#bd3786\"],[0.5555555555555556,\"#d8576b\"],[0.6666666666666666,\"#ed7953\"],[0.7777777777777778,\"#fb9f3a\"],[0.8888888888888888,\"#fdca26\"],[1.0,\"#f0f921\"]]}],\"mesh3d\":[{\"type\":\"mesh3d\",\"colorbar\":{\"outlinewidth\":0,\"ticks\":\"\"}}],\"scatter\":[{\"fillpattern\":{\"fillmode\":\"overlay\",\"size\":10,\"solidity\":0.2},\"type\":\"scatter\"}],\"parcoords\":[{\"type\":\"parcoords\",\"line\":{\"colorbar\":{\"outlinewidth\":0,\"ticks\":\"\"}}}],\"scatterpolargl\":[{\"type\":\"scatterpolargl\",\"marker\":{\"colorbar\":{\"outlinewidth\":0,\"ticks\":\"\"}}}],\"bar\":[{\"error_x\":{\"color\":\"#2a3f5f\"},\"error_y\":{\"color\":\"#2a3f5f\"},\"marker\":{\"line\":{\"color\":\"#E5ECF6\",\"width\":0.5},\"pattern\":{\"fillmode\":\"overlay\",\"size\":10,\"solidity\":0.2}},\"type\":\"bar\"}],\"scattergeo\":[{\"type\":\"scattergeo\",\"marker\":{\"colorbar\":{\"outlinewidth\":0,\"ticks\":\"\"}}}],\"scatterpolar\":[{\"type\":\"scatterpolar\",\"marker\":{\"colorbar\":{\"outlinewidth\":0,\"ticks\":\"\"}}}],\"histogram\":[{\"marker\":{\"pattern\":{\"fillmode\":\"overlay\",\"size\":10,\"solidity\":0.2}},\"type\":\"histogram\"}],\"scattergl\":[{\"type\":\"scattergl\",\"marker\":{\"colorbar\":{\"outlinewidth\":0,\"ticks\":\"\"}}}],\"scatter3d\":[{\"type\":\"scatter3d\",\"line\":{\"colorbar\":{\"outlinewidth\":0,\"ticks\":\"\"}},\"marker\":{\"colorbar\":{\"outlinewidth\":0,\"ticks\":\"\"}}}],\"scattermapbox\":[{\"type\":\"scattermapbox\",\"marker\":{\"colorbar\":{\"outlinewidth\":0,\"ticks\":\"\"}}}],\"scatterternary\":[{\"type\":\"scatterternary\",\"marker\":{\"colorbar\":{\"outlinewidth\":0,\"ticks\":\"\"}}}],\"scattercarpet\":[{\"type\":\"scattercarpet\",\"marker\":{\"colorbar\":{\"outlinewidth\":0,\"ticks\":\"\"}}}],\"carpet\":[{\"aaxis\":{\"endlinecolor\":\"#2a3f5f\",\"gridcolor\":\"white\",\"linecolor\":\"white\",\"minorgridcolor\":\"white\",\"startlinecolor\":\"#2a3f5f\"},\"baxis\":{\"endlinecolor\":\"#2a3f5f\",\"gridcolor\":\"white\",\"linecolor\":\"white\",\"minorgridcolor\":\"white\",\"startlinecolor\":\"#2a3f5f\"},\"type\":\"carpet\"}],\"table\":[{\"cells\":{\"fill\":{\"color\":\"#EBF0F8\"},\"line\":{\"color\":\"white\"}},\"header\":{\"fill\":{\"color\":\"#C8D4E3\"},\"line\":{\"color\":\"white\"}},\"type\":\"table\"}],\"barpolar\":[{\"marker\":{\"line\":{\"color\":\"#E5ECF6\",\"width\":0.5},\"pattern\":{\"fillmode\":\"overlay\",\"size\":10,\"solidity\":0.2}},\"type\":\"barpolar\"}],\"pie\":[{\"automargin\":true,\"type\":\"pie\"}]},\"layout\":{\"autotypenumbers\":\"strict\",\"colorway\":[\"#636efa\",\"#EF553B\",\"#00cc96\",\"#ab63fa\",\"#FFA15A\",\"#19d3f3\",\"#FF6692\",\"#B6E880\",\"#FF97FF\",\"#FECB52\"],\"font\":{\"color\":\"#2a3f5f\"},\"hovermode\":\"closest\",\"hoverlabel\":{\"align\":\"left\"},\"paper_bgcolor\":\"white\",\"plot_bgcolor\":\"#E5ECF6\",\"polar\":{\"bgcolor\":\"#E5ECF6\",\"angularaxis\":{\"gridcolor\":\"white\",\"linecolor\":\"white\",\"ticks\":\"\"},\"radialaxis\":{\"gridcolor\":\"white\",\"linecolor\":\"white\",\"ticks\":\"\"}},\"ternary\":{\"bgcolor\":\"#E5ECF6\",\"aaxis\":{\"gridcolor\":\"white\",\"linecolor\":\"white\",\"ticks\":\"\"},\"baxis\":{\"gridcolor\":\"white\",\"linecolor\":\"white\",\"ticks\":\"\"},\"caxis\":{\"gridcolor\":\"white\",\"linecolor\":\"white\",\"ticks\":\"\"}},\"coloraxis\":{\"colorbar\":{\"outlinewidth\":0,\"ticks\":\"\"}},\"colorscale\":{\"sequential\":[[0.0,\"#0d0887\"],[0.1111111111111111,\"#46039f\"],[0.2222222222222222,\"#7201a8\"],[0.3333333333333333,\"#9c179e\"],[0.4444444444444444,\"#bd3786\"],[0.5555555555555556,\"#d8576b\"],[0.6666666666666666,\"#ed7953\"],[0.7777777777777778,\"#fb9f3a\"],[0.8888888888888888,\"#fdca26\"],[1.0,\"#f0f921\"]],\"sequentialminus\":[[0.0,\"#0d0887\"],[0.1111111111111111,\"#46039f\"],[0.2222222222222222,\"#7201a8\"],[0.3333333333333333,\"#9c179e\"],[0.4444444444444444,\"#bd3786\"],[0.5555555555555556,\"#d8576b\"],[0.6666666666666666,\"#ed7953\"],[0.7777777777777778,\"#fb9f3a\"],[0.8888888888888888,\"#fdca26\"],[1.0,\"#f0f921\"]],\"diverging\":[[0,\"#8e0152\"],[0.1,\"#c51b7d\"],[0.2,\"#de77ae\"],[0.3,\"#f1b6da\"],[0.4,\"#fde0ef\"],[0.5,\"#f7f7f7\"],[0.6,\"#e6f5d0\"],[0.7,\"#b8e186\"],[0.8,\"#7fbc41\"],[0.9,\"#4d9221\"],[1,\"#276419\"]]},\"xaxis\":{\"gridcolor\":\"white\",\"linecolor\":\"white\",\"ticks\":\"\",\"title\":{\"standoff\":15},\"zerolinecolor\":\"white\",\"automargin\":true,\"zerolinewidth\":2},\"yaxis\":{\"gridcolor\":\"white\",\"linecolor\":\"white\",\"ticks\":\"\",\"title\":{\"standoff\":15},\"zerolinecolor\":\"white\",\"automargin\":true,\"zerolinewidth\":2},\"scene\":{\"xaxis\":{\"backgroundcolor\":\"#E5ECF6\",\"gridcolor\":\"white\",\"linecolor\":\"white\",\"showbackground\":true,\"ticks\":\"\",\"zerolinecolor\":\"white\",\"gridwidth\":2},\"yaxis\":{\"backgroundcolor\":\"#E5ECF6\",\"gridcolor\":\"white\",\"linecolor\":\"white\",\"showbackground\":true,\"ticks\":\"\",\"zerolinecolor\":\"white\",\"gridwidth\":2},\"zaxis\":{\"backgroundcolor\":\"#E5ECF6\",\"gridcolor\":\"white\",\"linecolor\":\"white\",\"showbackground\":true,\"ticks\":\"\",\"zerolinecolor\":\"white\",\"gridwidth\":2}},\"shapedefaults\":{\"line\":{\"color\":\"#2a3f5f\"}},\"annotationdefaults\":{\"arrowcolor\":\"#2a3f5f\",\"arrowhead\":0,\"arrowwidth\":1},\"geo\":{\"bgcolor\":\"white\",\"landcolor\":\"#E5ECF6\",\"subunitcolor\":\"white\",\"showland\":true,\"showlakes\":true,\"lakecolor\":\"white\"},\"title\":{\"x\":0.05},\"mapbox\":{\"style\":\"light\"}}},\"xaxis\":{\"anchor\":\"y\",\"domain\":[0.0,1.0],\"title\":{\"text\":\"x\"}},\"yaxis\":{\"anchor\":\"x\",\"domain\":[0.0,1.0],\"title\":{\"text\":\"y\"}},\"legend\":{\"tracegroupgap\":0},\"margin\":{\"t\":60}},                        {\"responsive\": true}                    ).then(function(){\n",
              "                            \n",
              "var gd = document.getElementById('1ac17f85-2ec1-4d4a-97df-f7721a5179ec');\n",
              "var x = new MutationObserver(function (mutations, observer) {{\n",
              "        var display = window.getComputedStyle(gd).display;\n",
              "        if (!display || display === 'none') {{\n",
              "            console.log([gd, 'removed!']);\n",
              "            Plotly.purge(gd);\n",
              "            observer.disconnect();\n",
              "        }}\n",
              "}});\n",
              "\n",
              "// Listen for the removal of the full notebook cells\n",
              "var notebookContainer = gd.closest('#notebook-container');\n",
              "if (notebookContainer) {{\n",
              "    x.observe(notebookContainer, {childList: true});\n",
              "}}\n",
              "\n",
              "// Listen for the clearing of the current output cell\n",
              "var outputEl = gd.closest('.output');\n",
              "if (outputEl) {{\n",
              "    x.observe(outputEl, {childList: true});\n",
              "}}\n",
              "\n",
              "                        })                };                            </script>        </div>\n",
              "</body>\n",
              "</html>"
            ]
          },
          "metadata": {}
        }
      ]
    },
    {
      "cell_type": "code",
      "source": [
        "prev_colesterol.score(X_peso , y_colesterol)"
      ],
      "metadata": {
        "id": "TZ0k77WEuc9g",
        "outputId": "3348eb54-db17-4a6c-d1b2-5e5d68ff6a9a",
        "colab": {
          "base_uri": "https://localhost:8080/"
        }
      },
      "execution_count": 75,
      "outputs": [
        {
          "output_type": "execute_result",
          "data": {
            "text/plain": [
              "0.9710492593823397"
            ]
          },
          "metadata": {},
          "execution_count": 75
        }
      ]
    },
    {
      "cell_type": "code",
      "source": [
        "from sklearn.metrics import mean_absolute_error\n",
        "mean_absolute_error(y_colesterol , previsoes_colesterol)"
      ],
      "metadata": {
        "id": "XRmdKd8RuxZ8",
        "outputId": "92387438-83f1-44f8-cb57-185f415103bf",
        "colab": {
          "base_uri": "https://localhost:8080/"
        }
      },
      "execution_count": 77,
      "outputs": [
        {
          "output_type": "execute_result",
          "data": {
            "text/plain": [
              "4.9787994101408914"
            ]
          },
          "metadata": {},
          "execution_count": 77
        }
      ]
    }
  ]
}